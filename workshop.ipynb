{
 "cells": [
  {
   "cell_type": "markdown",
   "metadata": {},
   "source": [
    "<div style=\"direction:rtl;line-height:300%;\">\n",
    "<font face=\"B Nazanin\" size=5>\n",
    "<div align=center>\n",
    "<font face=\"IranNastaliq\" size=30>\n",
    "<p></p><p></p>\n",
    "به نام خدا\n",
    "<p></p>\n",
    "</font>\n",
    "<font color=#FF7500>\n",
    "دانشگاه صنعتی شریف - دانشکده مهندسی کامپیوتر\n",
    "</font>\n",
    "<p></p>\n",
    "<font color=blue>\n",
    "داده‌ساختارها و الگوریتم‌ها\n",
    "</font>\n",
    "<p></p>\n",
    "کارگاه پایتون\n",
    "</div>\n",
    "</font>\n",
    "<hr/>\n",
    "</div>"
   ]
  },
  {
   "cell_type": "markdown",
   "metadata": {},
   "source": [
    "<div class=\"persian\" style=\"direction:rtl\">\n",
    "<font face=\"B Nazanin\" size=3>\n",
    "<h3>منابع کمکی:</h3>\n",
    "<ul>\n",
    "    <li><a href=\"http://docs.python.org\">مقالات سایت پایتون</a></li>\n",
    "    <li><a href=\"http://webcour.se\">درس</a> طراحی وب سجاد فولادی</li>\n",
    "    <li>قسمت‌های خوب پایتون از <a href=\"http://2013.es.pycon.org/media/Python_the_good_parts.pdf\">Miguel Araujo </a></li>\n",
    "    <li><a href=\"http://interactivepython.org/courselib/static/pythonds/index.html\">Problem Solving with Algorithms and Data Structures</a></li>\n",
    "    <li><a href=\"https://realpython.com/blog/python/primer-on-python-decorators/\">Primer on Python Decorators</a></li>\n",
    "</ul>\n",
    "</font>\n",
    "</div>"
   ]
  },
  {
   "cell_type": "markdown",
   "metadata": {},
   "source": [
    "<div class=\"persian\" style=\"direction:rtl\">\n",
    "<font face=\"B Nazanin\" size=3>\n",
    "<h3>متغیر‌ها</h3>\n",
    "\n",
    "تعریف متغیر در زبان پایتون بر خلاف زبان‌هایی مثل C و جاوا نیازی به مشخص‌کردن صریح نوع متغیر ندارد و خود مفسر (interpreter) نوع متغیر را از روی مقداری که به آن داده‌شده تعیین میکند؛ بنابراین نباید تصور کرد که در زبان پایتون متغیرها نوع ندارند؛ تابع `type` نیز نوع متغیر ورودی را خروجی می‌دهد.\n",
    "\n",
    "<br>\n",
    "در حالت کلی زبان‌های برنامه‌نویسی از نظر نوع متغیر‌هایشان دو نوع دسته‌بندی دارندد:\n",
    "\n",
    "<h4>Static/Dynamic typing</h4>\n",
    "در زبان‌های statically typed نوع یک متغیر در تمام عمرش ثابت است و نمی‌تواند بعدا عوض شود؛ اکثر زبان‌هایی که تابه‌حال دیده‌اید این ویژگی را دارند ولی مثلا زبان php این‌گونه نیست و بعد از تعریف یک متغیر میتوانید بعدا نوع آن را عوض کنید.\n",
    "<h4>Strong/Weak typing</h4>\n",
    "در زبان‌های Strong typed متغیرها به صورت ضمنی یا صریح به هم تبدیل نمیشوند؛ یک مثال از یک زبان Weakly typed زبان C است که علاوه بر تبدیل شدن (casting) ضمنی متغیرهای int و bool و double به یکدیگر،‌شما می‌توانید هر دو نوع متغیری را به هم تبدیل کنید! کافی است اشاره‌گر به متغیر اول را یکبار به `void *` تبدیل کرده و سپس آن را به اشاره‌گری به نوع متغیر دوم تبدیل کنید!\n",
    "\n",
    "<br>\n",
    "با این توصیفات زبان پایتون در دسته‌بندی نوع اول یک زبان Dynamically typed است و شما می‌توانید نوع یک متغیر را در طول زمان عوض کنید‌(مثال ۱)\n",
    ".در دسته‌بندی دوم نیز این زبان یک زبان Strongly typed است و انواع مختلف متغیر‌ها در حالت کلی به هم تبدیل نمی‌شوند. در مثال دوم شما مشاهده میکنید که جمع یک عدد با یک رشته چگونه به بروز خطا منجر می‌شود.\n",
    "\n",
    "</font>\n",
    "</div>"
   ]
  },
  {
   "cell_type": "code",
   "execution_count": 2,
   "metadata": {},
   "outputs": [
    {
     "name": "stdout",
     "output_type": "stream",
     "text": [
      "<class 'int'>\n",
      "<class 'str'>\n",
      "<class 'bool'>\n",
      "<class 'list'>\n"
     ]
    }
   ],
   "source": [
    "a = 1\n",
    "print(type(a))\n",
    "a = 'salam'\n",
    "print(type(a))\n",
    "a = True\n",
    "print(type(a))\n",
    "print(type([1, 2, 3]))"
   ]
  },
  {
   "cell_type": "code",
   "execution_count": 3,
   "metadata": {},
   "outputs": [
    {
     "ename": "TypeError",
     "evalue": "unsupported operand type(s) for +: 'int' and 'str'",
     "output_type": "error",
     "traceback": [
      "\u001b[0;31m---------------------------------------------------------------------------\u001b[0m",
      "\u001b[0;31mTypeError\u001b[0m                                 Traceback (most recent call last)",
      "\u001b[0;32m<ipython-input-3-b5d2ee804550>\u001b[0m in \u001b[0;36m<module>\u001b[0;34m()\u001b[0m\n\u001b[0;32m----> 1\u001b[0;31m \u001b[0mprint\u001b[0m\u001b[0;34m(\u001b[0m\u001b[0;36m1\u001b[0m \u001b[0;34m+\u001b[0m \u001b[0;34m'a'\u001b[0m\u001b[0;34m)\u001b[0m\u001b[0;34m\u001b[0m\u001b[0m\n\u001b[0m",
      "\u001b[0;31mTypeError\u001b[0m: unsupported operand type(s) for +: 'int' and 'str'"
     ]
    }
   ],
   "source": [
    "# print(1 + 'a') #  --> Error"
   ]
  },
  {
   "cell_type": "markdown",
   "metadata": {},
   "source": [
    "<div class=\"persian\" style=\"direction:rtl\">\n",
    "<font face=\"B Nazanin\" size=3>\n",
    "<h3>برخی انواع مهم داده:</h3>\n",
    "<ul>\n",
    "    <li>Boolean یا همان: True و False (به بزرگ و کوچک بودن حروف دقت کنید)</li>\n",
    "    <li>اعداد: int, long, float, complex</li>\n",
    "    <li>رشته‌ها</li>\n",
    "    <li>None: معادل NULL در C++</li>\n",
    "    <li>List و Tuple</li>\n",
    "    <li>دیکشنری</li>\n",
    "</ul>\n",
    "</font>\n",
    "</div>"
   ]
  },
  {
   "cell_type": "markdown",
   "metadata": {},
   "source": [
    "<div class=\"persian\" style=\"direction:rtl\">\n",
    "<font face=\"B Nazanin\" size=3>\n",
    "<h3>متغیرهای عددی</h3>\n",
    "اعداد صحیح، اعشاری، مختلط و عملیات حسابی بین آنها\n",
    "که مثال‌هایی از آن‌ها را مشاهده می‌کنید.\n",
    "</font>\n",
    "</div>"
   ]
  },
  {
   "cell_type": "code",
   "execution_count": null,
   "metadata": {},
   "outputs": [],
   "source": [
    "a = 6         # int\n",
    "b = 4\n",
    "d = 3.5       # float (there is no double)\n",
    "c1 = 1+2j     # complex\n",
    "c2 = 2+1j\n",
    "big_int = 123 ** 50\n",
    "\n",
    "print(a + d) \n",
    "print(type(a + d))\n",
    "\n",
    "print(a // b)   # int division\n",
    "print(a / d)\n",
    "\n",
    "print(c1 + c2) # complex addition\n",
    "print(type(c1 + c2))\n",
    "\n",
    "print(c1 * c2) # complex multiplication\n",
    "\n",
    "print(big_int, type(big_int)) # python has big-integers?"
   ]
  },
  {
   "cell_type": "markdown",
   "metadata": {},
   "source": [
    "<div class=\"persian\" style=\"direction:rtl\">\n",
    "<font face=\"B Nazanin\" size=3>\n",
    "<h3>رشته ها</h3>\n",
    "<ul>\n",
    "    <li>در زبان پایتون برای مشخص کردن رشته می‌توانید از `'` یا `\"` استفاده کنید و از نگاه مفسر این دو تفاوتی ندارند. فایده‌ی این موضوع این است که اگر در میان رشته‌ی شما کاراکتر `\"` وجود داشته باشد، میتوانید دو سر رشته را با `'` مشخص کنید و برعکس.</li>\n",
    "    <li>عبارت‌هایی مثل `n\\` یا `t\\` .در رشته‌ها پشتیبانی می‌شوند</li>\n",
    "    <li>عملیات جمع دو رشته و ضرب عدد در رشته نیز در این زبان به سادگی قابل انجام هستند.</li>\n",
    "\n",
    "\n",
    "<li>دسترسی به زیررشته: slicing یکی از قابلیت‌های بسیار مفید در پایتون است.\n",
    "\n",
    "</li>\n",
    "\n",
    "</ul>\n",
    "\n",
    "\n",
    "</font>\n",
    "</div>"
   ]
  },
  {
   "cell_type": "code",
   "execution_count": null,
   "metadata": {
    "scrolled": true
   },
   "outputs": [],
   "source": [
    "s1 = 'hello guys, i\\'m a string!'\n",
    "print(s1)\n",
    "s1 = \"hello guys, i'm a string!\"\n",
    "print(s1)\n",
    "s1 = \"hello guys, i'm \\n also a \\t string\"\n",
    "print(s1)"
   ]
  },
  {
   "cell_type": "code",
   "execution_count": null,
   "metadata": {},
   "outputs": [],
   "source": [
    "print('salam ' + 'Akbar')\n",
    "print(('s' + 't') *4)\n",
    "\n",
    "s = 'a =' + str(102)\n",
    "print(s)"
   ]
  },
  {
   "cell_type": "markdown",
   "metadata": {},
   "source": [
    "<div class=\"persian\" style=\"direction:rtl\">\n",
    "<font face=\"B Nazanin\" size=3>\n",
    "<h3>رشته های فرمت‌دار</h3>\n",
    "    در زبان پایتون\n",
    "برای تولید رشته‌هایی که شامل پارامترهای مختلفی هستند راه‌های مختلفی وجود دارد؛ یک راه روش استاندارد فرمت‌دار کردن رشته‌هاست که در بسیاری از زبان‌ها پشتیبانی می‌شود (`%d` و `%f` و ...)\n",
    "    ؛ \n",
    "    روش دیگر، استفاده از عملگر جمع بین قسمت‌های مختلف است ولی بهترین روش استفاده از تابع `format` برای رشته‌هاست که کار را بسیار ساده می‌کند.\n",
    "    \n",
    "</font>\n",
    "</div>"
   ]
  },
  {
   "cell_type": "code",
   "execution_count": null,
   "metadata": {},
   "outputs": [],
   "source": [
    "n = 10\n",
    "place = 'football'\n",
    "time = 10.5\n",
    "\n",
    "s = 'ma %d ta doost boodim baham raftim %s saate %.1f' %(n, place, time)\n",
    "print(s)\n",
    "\n",
    "s = 'ma ' + str(n) + ' ta doost boodim baham raftim ' + place + ' saate ' + str(time)\n",
    "print(s)\n",
    "\n",
    "s = 'ma {} ta doost boodim baham raftim {} saate {}'.format(n, place, time)\n",
    "print(s)"
   ]
  },
  {
   "cell_type": "markdown",
   "metadata": {},
   "source": [
    "<div class=\"persian\" style=\"direction:rtl\">\n",
    "<font face=\"B Nazanin\" size=3>\n",
    "<h3>مثال</h3>\n",
    "سه عدد را ورودی بگیرید و بین آنها *** چاپ کنید\n",
    "\n",
    "</font>\n",
    "</div>"
   ]
  },
  {
   "cell_type": "code",
   "execution_count": null,
   "metadata": {},
   "outputs": [],
   "source": []
  },
  {
   "cell_type": "markdown",
   "metadata": {},
   "source": [
    "<div class=\"persian\" style=\"direction:rtl\">\n",
    "<font face=\"B Nazanin\" size=3>\n",
    "<h3>Slicing در رشته‌ها</h3>\n",
    "دسترسی به زیررشته‌های یک رشته در زبان پایتون بسیار ساده است. این قواعد که برای \n",
    "آرایه‌ها هم برقرار است (که بعدا مشاهده خواهید کرد)\n",
    "slicing نام دارد. در زیر چندین مثال از دسترسی به قسمت‌های مختلف یک رشته را مشاهده می‌کنید.\n",
    "</font>\n",
    "</div>"
   ]
  },
  {
   "cell_type": "code",
   "execution_count": null,
   "metadata": {},
   "outputs": [],
   "source": [
    "s = 'chanta yadak kesh jam kardim dore khodemun'\n",
    "\n",
    "print(s[1], type(s[1]))\n",
    "print(s[0:5])\n",
    "print(s[-1])\n",
    "print(s[-3:-1])\n",
    "print(s[0:9:2])"
   ]
  },
  {
   "cell_type": "markdown",
   "metadata": {},
   "source": [
    "<div class=\"persian\" style=\"direction:rtl\">\n",
    "<font face=\"B Nazanin\" size=3>\n",
    "<h3>مثال</h3>\n",
    "    یک رشته را ورودی بگیرید و برعکس آن‌را با استفاده از slicing چاپ کنید\n",
    "\n",
    "</font>\n",
    "</div>"
   ]
  },
  {
   "cell_type": "code",
   "execution_count": null,
   "metadata": {},
   "outputs": [],
   "source": []
  },
  {
   "cell_type": "markdown",
   "metadata": {},
   "source": [
    "<div class=\"persian\" style=\"direction:rtl\">\n",
    "<font face=\"B Nazanin\" size=3>\n",
    "<h3>بلاک‌ها</h3>\n",
    "نحوه‌ی indent کردن کد (تورفتگی کد) \n",
    "در پایتون بلاک‌ها را از یکدیگر جدا می‌کند.\n",
    "\n",
    "یعنی پایتون شما را مجبور می‌کند که \n",
    "نحوه‌ی خاصی از تورفتگی‌های کد را استفاده کنید و همانند زبان‌های دیگر این مسئله در دست برنامه‌نویس نیست.\n",
    "<br/>\n",
    "هر tab یا تعدادی space می‌تواند یک مرحله تورفتگی را نشان بدهد.\n",
    "پس شما می‌توانید به انتخاب خودتان از space یا tab برای جدا کردن بلاک‌ها از یکدیگر استفاده کنید (در واقع در پایتون ۳ هر ۴ space برابر یک tab است)\n",
    "اما بهتر است که این دو روش را با هم استفاده نکنید. به این دلیل که هم خوانایی کد را به شدت پایین می‌آورد و هم ترکیب کردن دو کد مختلف که یکی از tab و دیگری از space استفاده می‌کند بسیار می‌تواند سخت باشد.\n",
    "<br/>\n",
    " با اضافه‌کردن یک مرحله تورفتگی، یک بلاک درونی جدید شروع می‌شود و با حذف کردن این تورفتگی بلاک قبلی تمام می‌شود.\n",
    " همیشه وقتی باید یک بلاک جدید شروع شود، یک کاراکتر دونقطه (:) حتما در انتهای خط قبلی آن وجود دارد.\n",
    " <br/>\n",
    " دستوراتی که بعدشان باید یک بلاک جدید شروع شود:\n",
    "<span class=\"codeM\">if و else و for و while و تعریف تابع (def) و ...</span>\n",
    "<br/>\n",
    "دقت کنید که یک بلاک نمی‌تواند هرگز خالی باشد. پس اگر به هر دلیلی بلاک خالی شد، می‌توانید از کلمه‌ی کلیدی\n",
    "<span class=\"codeM\">pass</span>\n",
    "برای خالی نماندن بلاک استفاده کنید.\n",
    "</font>\n",
    "</div>"
   ]
  },
  {
   "cell_type": "markdown",
   "metadata": {},
   "source": [
    "<div class=\"persian\" style=\"direction:rtl\">\n",
    "<font face=\"B Nazanin\" size=3>\n",
    "<h3>ساختار شرطی</h3>\n",
    "if\n",
    "مشابه بقیه زبان‌ها کار می‌کند، فقط با این تفاوت که نیازی نیست دور گزاره‌ی شرطی آن پرانتز گذاشته شود (گذاشتن آن هم مانعی ندارد). نکته‌ی مهمی که بالاتر هم اشاره شده این است که در پایان این دستور باید یک کاراکتر دونقطه (:) نوشته شده و در خط بعدی آن یک بلاک جدید شروع شود.\n",
    "<br/>\n",
    "همچنین در پایتون\n",
    "else if\n",
    "نداریم و به جای آن باید از کلمه‌ی کلیدی \n",
    "<span class=\"codeM\">elif</span>\n",
    "استفاده کرد.\n",
    "<br/>\n",
    "</font>\n",
    "</div>"
   ]
  },
  {
   "cell_type": "code",
   "execution_count": 14,
   "metadata": {
    "scrolled": true
   },
   "outputs": [
    {
     "name": "stdout",
     "output_type": "stream",
     "text": [
      "a is greater than or equal to 5 and less than 10\n",
      "no error was thrown\n"
     ]
    }
   ],
   "source": [
    "a = 8\n",
    "if a < 5:\n",
    "    pass\n",
    "elif a < 10:  # this is okay too, but why bother?\n",
    "    print('a is greater than or equal to 5 and less than 10')\n",
    "else:\n",
    "    print('a is greater than or equal to 10')\n",
    "\n",
    "if a < 10 or (2/0):\n",
    "    # the second one must throw a division by zero exception\n",
    "    print('no error was thrown')\n",
    "    # obviously or (also and) is short-circuited\n"
   ]
  },
  {
   "cell_type": "markdown",
   "metadata": {},
   "source": [
    "<div class=\"persian\" style=\"direction:rtl\">\n",
    "<font face=\"B Nazanin\" size=3>\n",
    "<h3>مقدار True و False انواع پایه در گزاره‌های شرطی</h3>\n",
    "    مقادیر زیر در پایتون در یک گزاره‌ی شرطی مقدار False دارند:\n",
    "    <ul>\n",
    "        <li>False</li>\n",
    "        <li>None</li>\n",
    "        <li>صفر عددی: 0، 0.0، 0j</li>\n",
    "        <li>یک دنباله (مثلا رشته) یا مجموعه یا \n",
    "        dict\n",
    "        خالی: ''، \"\"، {}، []، () و غیره</li>\n",
    "    </ul>\n",
    "    هر چیز دیگری مقدار True می‌گیرد.\n",
    "</font>\n",
    "</div>"
   ]
  },
  {
   "cell_type": "code",
   "execution_count": null,
   "metadata": {},
   "outputs": [],
   "source": [
    "s = input()\n",
    "if not s:\n",
    "    print(\"empty input\")"
   ]
  },
  {
   "cell_type": "markdown",
   "metadata": {},
   "source": [
    "<div class=\"persian\" style=\"direction:rtl\">\n",
    "<font face=\"B Nazanin\" size=3>\n",
    "<h3>شرط‌های inline</h3>\n",
    "مانند بسیاری از زبان‌ها که از عملگر‌های `?:` برای گزاره‌های شرطی \n",
    "    inline استفاده\n",
    "می‌کنند، در پایتون می‌توانید خود عبارت‌های `if` و `else` را به صورت inline به‌کار ببرید.\n",
    "<br/>\n",
    "</font>\n",
    "</div>"
   ]
  },
  {
   "cell_type": "code",
   "execution_count": 17,
   "metadata": {},
   "outputs": [
    {
     "name": "stdout",
     "output_type": "stream",
     "text": [
      "12\n",
      "EVEN\n"
     ]
    }
   ],
   "source": [
    "a = int(input())\n",
    "s = \"ODD\" if a % 2 == 1 else \"EVEN\"\n",
    "print(s)"
   ]
  },
  {
   "cell_type": "markdown",
   "metadata": {},
   "source": [
    "<div class=\"persian\"style=\"direction:rtl\">\n",
    "<font face=\"B Nazanin\" size=3>\n",
    "<h3>حلقه‌ها</h3>\n",
    "در پایتون دو حلقه‌ی\n",
    "   `for` و `while`\n",
    "را داریم.\n",
    "<br/>\n",
    "ساختار `while` مشابه با بقیه زبان‌ها است؛ در مثال زیر برنامه‌ای را مشاهده میکنید که تا زمانی که عدد صفر ورودی داده شود، دو برابر ورودی را چاپ می‌کند. هم‌چنین عبارات `break` و `continue` نیز مشابه بقیه زبان‌ها کار می‌کنند.\n",
    "</font>\n",
    "</div>"
   ]
  },
  {
   "cell_type": "code",
   "execution_count": 2,
   "metadata": {},
   "outputs": [
    {
     "name": "stdout",
     "output_type": "stream",
     "text": [
      "1\n",
      "2\n",
      "2\n",
      "4\n",
      "0\n"
     ]
    }
   ],
   "source": [
    "inp = int(input())\n",
    "while inp != 0:\n",
    "    print(2 * inp)\n",
    "    inp = int(input())"
   ]
  },
  {
   "cell_type": "markdown",
   "metadata": {},
   "source": [
    "<div class=\"persian\"style=\"direction:rtl\">\n",
    "<font face=\"B Nazanin\" size=3>\n",
    "<h3>حلقه for</h3>\n",
    "    حلقه for یک «قابل پیمایش» (iterable) میگیرد و روی آن پیمایش می‌کند؛ این قابل پیمایش می‌تواند یک رشته، آرایه، دیکشنری، یا حتی کلاس‌های تعریف‌شده توسط شما باشد\n",
    ".\n",
    "    <br>\n",
    "    در مثال اول کد اسکی تمام کاراکتر های رشته چاپ شده‌اند.\n",
    "    <br>\n",
    "    در مثال دوم از کلاس `range` که یک iterable است استفاده شده تا حلقه روی اعداد در یک بازه‌ی مشخص \n",
    "اجرا شود. ساختار `range` شبیه slicing است که در قسمت‌های قبل بررسی شد.\n",
    "</font>\n",
    "</div>"
   ]
  },
  {
   "cell_type": "code",
   "execution_count": 6,
   "metadata": {},
   "outputs": [
    {
     "name": "stdout",
     "output_type": "stream",
     "text": [
      "65 32 105 115 32 109 121 32 115 116 114 105 110 103 "
     ]
    }
   ],
   "source": [
    "s = \"A is my string\"\n",
    "for c in s:\n",
    "    print(ord(c), end=' ')"
   ]
  },
  {
   "cell_type": "code",
   "execution_count": 7,
   "metadata": {},
   "outputs": [
    {
     "name": "stdout",
     "output_type": "stream",
     "text": [
      "1\n",
      "4\n",
      "7\n"
     ]
    }
   ],
   "source": [
    "for i in range(1, 10, 3):\n",
    "    print(i)"
   ]
  },
  {
   "cell_type": "markdown",
   "metadata": {
    "collapsed": true
   },
   "source": [
    "<div class=\"persian\" style=\"direction:rtl\">\n",
    "<font face=\"B Nazanin\" size=3>\n",
    "<h3>مثال</h3>\n",
    "<ul>\n",
    "    <li>تا زمانی که عدد وارد شده شده اول است ورودی بگیرد وگرنه برنامه را قطع کند</li>\n",
    "</ul>\n",
    "\n",
    "\n",
    "</font>\n",
    "</div>"
   ]
  },
  {
   "cell_type": "code",
   "execution_count": null,
   "metadata": {},
   "outputs": [],
   "source": []
  },
  {
   "cell_type": "markdown",
   "metadata": {},
   "source": [
    "<div class=\"persian\" style=\"direction:rtl\">\n",
    "<font face=\"B Nazanin\" size=3>\n",
    "<h3>مثال</h3>\n",
    "<ul>\n",
    "    <li>دو رشته n حرفی دریافت کند و یک رشته n حرفی شامل حروف بزرگتر هر جایگاه خروجی دهد</li>\n",
    "    <li>نمونه ورودی: رشته های ورودی abcd و yrea هستند و رشته خروجی yred خواهد بود</li>\n",
    "\n",
    "\n",
    "</ul>\n",
    "\n",
    "\n",
    "</font>\n",
    "</div>"
   ]
  },
  {
   "cell_type": "code",
   "execution_count": null,
   "metadata": {},
   "outputs": [],
   "source": []
  },
  {
   "cell_type": "markdown",
   "metadata": {},
   "source": [
    "<div class=\"persian\" style=\"direction:rtl\">\n",
    "<font face=\"B Nazanin\" size=3>\n",
    "<h3>لیست‌ها</h3>\n",
    "لیست‌های پایتون درست مثل vector (آرایه‌های با طول متغیر) در C++ یا Java اند. البته برای نوع متغیر‌های داخل لیست محدودیتی وجود ندارد و اعضای لیست می‌توانند از هر نوعی باشند.\n",
    "<br/>\n",
    "هم‌چنین لیست‌ها بر خلاف رشته‌ها mutable هستند و می‌توانید\n",
    "عنصر متناظر با اندیس دلخواهی از لیست را تغییر دهید.\n",
    "<br>\n",
    "برای اضافه کردن به لیست هم میتوان از عملگر `+=` استفاده کرد و هم از تابع `append`. هم‌چنین slicing و پیمایش برای لیست‌ها همانند رشته‌هاست.\n",
    "</font>\n",
    "</div>\n"
   ]
  },
  {
   "cell_type": "code",
   "execution_count": 20,
   "metadata": {
    "scrolled": false
   },
   "outputs": [
    {
     "name": "stdout",
     "output_type": "stream",
     "text": [
      "length of l is: 6\n",
      "<class 'int'> <class 'list'>\n",
      "13\n",
      "[2, 10]\n",
      "[2, 10, 3, 5]\n",
      "[13, 3, 2]\n",
      "[23, 2, 10]\n",
      "[5, 13]\n",
      "[23, 2, 10, 3, 5, 13]\n",
      "[23, 2, 10, 3, 5, 13]\n"
     ]
    }
   ],
   "source": [
    "l = [6, 2, 10, 3, 5,]\n",
    "# You can leave the last colon (,) be, it doesn't do any harm\n",
    "# it's not necessary either\n",
    "\n",
    "l[0] = 23\n",
    "l.append(13)\n",
    "\n",
    "print('length of l is: ' + str(len(l)))\n",
    "\n",
    "print(type(l[0]), type(l))     # the first item\n",
    "print(l[-1])    \n",
    "print(l[1:3])  \n",
    "print(l[1:-1])\n",
    "print(l[-1::-2]) \n",
    "print(l[:3])    \n",
    "print(l[-2:])   \n",
    "print(l[0:100])\n",
    "print(l[:])"
   ]
  },
  {
   "cell_type": "markdown",
   "metadata": {},
   "source": [
    "<div class=\"persian\" style=\"direction:rtl\">\n",
    "<font face=\"B Nazanin\" size=3>\n",
    "<h3>یک روش سریع برای ساختن لیست</h3>\n",
    "از امکانات خوب زبان پایتون، قابلیت ساختن لیست با استفاده از حلقه است؛ البته این امکان برای مجموعه‌ها و دیکشنری‌ها نیز برقرار است:\n",
    "</font>\n",
    "</div>\n",
    "\n"
   ]
  },
  {
   "cell_type": "code",
   "execution_count": 13,
   "metadata": {},
   "outputs": [
    {
     "name": "stdout",
     "output_type": "stream",
     "text": [
      "[0, 0, 0, 0, 0, 0, 0, 0, 0, 0, 0, 0, 0, 0, 0, 0, 0, 0, 0, 0, 0, 0, 0, 0, 0, 0, 0, 0, 0, 0, 0, 0, 0, 0, 0, 0, 0, 0, 0, 0, 0, 0, 0, 0, 0, 0, 0, 0, 0, 0, 0, 0, 0, 0, 0, 0, 0, 0, 0, 0, 0, 0, 0, 0, 0, 0, 0, 0, 0, 0, 0, 0, 0, 0, 0, 0, 0, 0, 0, 0, 0, 0, 0, 0, 0, 0, 0, 0, 0, 0, 0, 0, 0, 0, 0, 0, 0, 0, 0, 0]\n",
      "[30, 72, 114, 156, 198]\n"
     ]
    }
   ],
   "source": [
    "arr = [0 for i in range(100)]\n",
    "print(arr)\n",
    "\n",
    "arr = [2 * i for i in range(0, 100, 3) if i % 7 == 1]\n",
    "print(arr)"
   ]
  },
  {
   "cell_type": "markdown",
   "metadata": {},
   "source": [
    "<div class=\"persian\" style=\"direction:rtl\">\n",
    "<font face=\"B Nazanin\" size=3>\n",
    "<h3>مثال</h3>\n",
    "<ul>\n",
    "    <li>یک عدد n از ورودی بگیرید سپس در n خط بعدی اعداد یک دنباله را ورودی بگیرید. در نهایت این آرایه را به روش حبابی مرتب کنید</li>\n",
    "</ul>\n",
    "</div>\n"
   ]
  },
  {
   "cell_type": "code",
   "execution_count": null,
   "metadata": {},
   "outputs": [],
   "source": []
  },
  {
   "cell_type": "markdown",
   "metadata": {},
   "source": [
    "<div class=\"persian\" style=\"direction:rtl\">\n",
    "<font face=\"B Nazanin\" size=3>\n",
    "<h3>مساله دو</h3>\n",
    "<ul>\n",
    "<li>دو آرایه n عضوی در نظر بگیرید و یک آرایه دو بعدی n در 2 از روی آن دو آٰرایه بسازید</li>\n",
    "</ul>\n",
    "</div>\n"
   ]
  },
  {
   "cell_type": "code",
   "execution_count": null,
   "metadata": {},
   "outputs": [],
   "source": []
  },
  {
   "cell_type": "markdown",
   "metadata": {},
   "source": [
    "<div class=\"persian\" style=\"direction:rtl\">\n",
    "<font face=\"B Nazanin\" size=3>\n",
    "<h3>مثال</h3>\n",
    "<ul>\n",
    "<li>یک آرایه را درنظر بگیرید و همه اعضای آن که از نوع int هستند را در قالب یک آرایه جدید خروجی دهید </li>\n",
    "</ul>\n",
    "</font>\n",
    "</div>\n",
    "\n"
   ]
  },
  {
   "cell_type": "code",
   "execution_count": null,
   "metadata": {},
   "outputs": [],
   "source": []
  },
  {
   "cell_type": "markdown",
   "metadata": {},
   "source": [
    "<div class=\"persian\" style=\"direction:rtl\">\n",
    "<font face=\"B Nazanin\" size=3>\n",
    "<h3>مقداردهی اولیه یک آرایه دو بعدی </h3>\n",
    "    برای ساختن آرایه‌ی دو بعدی که هر سطر آن اعداد 1 تا n هستند دو راه وجود دارد که یکی از این دو راه غلط است! به مثال زیر دقت کنید:\n",
    "</font>\n",
    "</div>\n",
    "\n",
    "\n"
   ]
  },
  {
   "cell_type": "code",
   "execution_count": 23,
   "metadata": {},
   "outputs": [
    {
     "name": "stdout",
     "output_type": "stream",
     "text": [
      "[[13, 2, 3], [13, 2, 3], [13, 2, 3]]\n",
      "[[13, 2, 3], [1, 2, 3], [1, 2, 3]]\n"
     ]
    }
   ],
   "source": [
    "# beware when using multiplication with lists and other objects\n",
    "arr = [[1,2,3]] * 3  # for example don't do this!\n",
    "arr[0][0] = 13\n",
    "print(arr)\n",
    "\n",
    "# instead you can do this (we'll cover what this means later):\n",
    "arr = [[1,2,3] for _ in range(3)]\n",
    "arr[0][0] = 13\n",
    "print(arr)"
   ]
  },
  {
   "cell_type": "markdown",
   "metadata": {},
   "source": [
    "<div class=\"persian\" style=\"direction:rtl\">\n",
    "<font face=\"B Nazanin\" size=3>\n",
    "<h3>زوج (چند‌تایی)های مرتب</h3>\n",
    "زوج‌های مرتب درست همانند لیست‌های غیرقابل تغییرند؛ یعنی بعد از تعریف و مقداردهی اولیه دیگر نمی‌توان مقادیر آن را عوض کرد یا به آن مقداری اضافه یا کم کرد.\n",
    "<br/>\n",
    "</font>\n",
    "</div>"
   ]
  },
  {
   "cell_type": "code",
   "execution_count": 27,
   "metadata": {},
   "outputs": [
    {
     "name": "stdout",
     "output_type": "stream",
     "text": [
      "<class 'tuple'>\n",
      "10\n",
      "(10, 6, 19)\n",
      "(10, 6, 19, (), 10, 6, 19, ())\n"
     ]
    }
   ],
   "source": [
    "t = (10, 6, 19, ())\n",
    "print(type(t))\n",
    "print(t[0])\n",
    "print(t[0:-1])\n",
    "print(t*2)\n",
    "\n",
    "# t[1] = 4 #  --> error\n",
    "# t.append #  --> not supported"
   ]
  },
  {
   "cell_type": "markdown",
   "metadata": {},
   "source": [
    "<div class=\"persian\" style=\"direction:rtl\">\n",
    "<font face=\"B Nazanin\" size=3>\n",
    "<h3>مثال</h3>\n",
    "برنامه‌ای بنویسید که دو متغیر ورودی را swap کند.\n",
    "<br/>\n",
    "</font>\n",
    "</div>"
   ]
  },
  {
   "cell_type": "code",
   "execution_count": null,
   "metadata": {},
   "outputs": [],
   "source": []
  },
  {
   "cell_type": "markdown",
   "metadata": {},
   "source": [
    "<div class=\"persian\" style=\"direction:rtl\">\n",
    "<font face=\"B Nazanin\" size=3>\n",
    "<h3>مجموعه‌ها</h3>\n",
    "مجموعه‌ها می‌توانند حداکثر یکی از هر چیز را نگه‌داری کنند البته هر چیزی که در آن ذخیره می‌شود باید Hashable باشد.\n",
    "</font>\n",
    "</div>"
   ]
  },
  {
   "cell_type": "code",
   "execution_count": 37,
   "metadata": {},
   "outputs": [
    {
     "name": "stdout",
     "output_type": "stream",
     "text": [
      "{(1, 2), 1, 2, 3, 'hasan'}\n",
      "5\n",
      "True\n",
      "False\n",
      "-- add:\n",
      "{(1, 2), 1, 2, 3, 4, 'hasan'}\n",
      "True\n",
      "-- remove:\n",
      "{(1, 2), 1, 2, 4, 'hasan'}\n",
      "False\n",
      "(1, 2) - 1 - 2 - 4 - hasan - "
     ]
    }
   ],
   "source": [
    "s = {1, 2, 3, 3, (1,2), 'hasan'}\n",
    "print(s)\n",
    "print(len(s))\n",
    "print(1 in s)\n",
    "print(4 in s)\n",
    "\n",
    "print('-- add:')\n",
    "s.add(4)\n",
    "print(s)\n",
    "print(4 in s)\n",
    "\n",
    "print('-- remove:')\n",
    "s.remove(3)\n",
    "print(s)\n",
    "print(3 in s)\n",
    "\n",
    "for x in s:\n",
    "    print(x, end=' - ')"
   ]
  },
  {
   "cell_type": "markdown",
   "metadata": {},
   "source": [
    "<div class=\"persian\" style=\"direction:rtl\">\n",
    "<font face=\"B Nazanin\" size=3>\n",
    "<h3>دیکشنری</h3>\n",
    "دیکشنری‌ها\n",
    "(یا به اختصار dict)\n",
    "در پایتون مانند بسیاری دیگر از زبان‌ها وجود دارند و نوعی نگاشت را انجام می‌دهند.\n",
    "<br/>\n",
    "در یک dict شما می‌توانید زوج‌های مرتب کلید و مقدار را ذخیره کرده و بعدا بر اساس کلید، مقدار‌ها را پیدا کنید.\n",
    "فقط دقت کنید که کلید باید Hashable باشد.\n",
    "</font>\n",
    "</div>"
   ]
  },
  {
   "cell_type": "code",
   "execution_count": null,
   "metadata": {},
   "outputs": [],
   "source": [
    "a = {1: 2, 'salam': 10, (1, 2, 3): [3, 4, 5]}\n",
    "for key, value in a.items():\n",
    "    print(key, value)\n",
    "\n",
    "a['ali'] = 1\n",
    "a['ali'] = 2\n",
    "print(a['ali'])"
   ]
  },
  {
   "cell_type": "markdown",
   "metadata": {},
   "source": [
    "<div class=\"persian\" style=\"direction:rtl\">\n",
    "<font face=\"B Nazanin\" size=3>\n",
    "در مثال زیر از روی یک دیکشنری معکوسش را ساختیم و بررسی میکنیم که آیا نگاشت یک به یک بوده است یا خیر\n",
    "</font>\n",
    "</div>\n",
    "\n",
    "\n"
   ]
  },
  {
   "cell_type": "code",
   "execution_count": 38,
   "metadata": {},
   "outputs": [
    {
     "name": "stdout",
     "output_type": "stream",
     "text": [
      "{2: 1, 3: 5, 5: 4}\n",
      "False\n"
     ]
    }
   ],
   "source": [
    "a = {1:2, 2:3, 5:3, 4:5}\n",
    "\n",
    "b = {}\n",
    "for key, value in a.items():\n",
    "    b[value] = key\n",
    "\n",
    "# Better Approach?\n",
    "\n",
    "print(b)\n",
    "print(len(a) == len(b))"
   ]
  },
  {
   "cell_type": "markdown",
   "metadata": {},
   "source": [
    "<div class=\"persian\" style=\"direction:rtl\">\n",
    "<font face=\"B Nazanin\" size=3>\n",
    "<h3>مثال</h3>\n",
    "تعدادی اسم و فامیل را از ورودی بخواند و بگوید به ازای هر فامیلی چند اسم متمایز وجود داشته است.\n",
    "<br>\n",
    "برای اینکه اسم و فامیل را در یک خط ورودی بخوانید، از تابع split برای رشته‌ها استفاده کنید\n",
    "</font>\n",
    "</div>\n",
    "\n",
    "\n"
   ]
  },
  {
   "cell_type": "code",
   "execution_count": null,
   "metadata": {},
   "outputs": [],
   "source": []
  },
  {
   "cell_type": "markdown",
   "metadata": {},
   "source": [
    "<div class=\"persian\" style=\"direction:rtl\">\n",
    "<font face=\"B Nazanin\" size=3>\n",
    "<h3>توابع</h3>\n",
    "توابع در پایتون با کلمه‌ی کلیدی\n",
    "<span class=\"codeM\">def</span>\n",
    "تعریف می‌شوند.\n",
    "<br/>\n",
    "برای ورودی دادن به تابع می توانید از همان روش ساده‌ی ورودی‌های مرتب استفاده کنید. اما می‌توانید آن‌ها را با استفاده از نام‌شان نیز مقداردهی کنید.\n",
    "<br/>\n",
    "همچنین می‌توانید توابع را همانند دیگر اشیا در متغیر‌ها ذخیره کنید یا به توابع دیگر پاس بدهید. \n",
    "<br/>\n",
    "    در زبان پایتون \n",
    " نوع متغیرهای ورودی و نیز نوع خروجی تابع\n",
    "به صورت صریح مشخص نمی‌شوند و به صورت پویا در حین محاسبه تابع مشخص می‌شوند. برای مثال تابع زیر در صورتی که دو مقدار ورودی برابر باشند یک رشته خروجی می‌دهد وگرنه مقدار بزرگتر را خروجی می‌دهد. البته باید عملگر بزرگتر و کوچکتر روی دو ورودی تعریف شده باشد که این موضوع بر عهده‌ی برنامه نویس است!\n",
    "</font>\n",
    "</div>"
   ]
  },
  {
   "cell_type": "code",
   "execution_count": 42,
   "metadata": {},
   "outputs": [
    {
     "name": "stdout",
     "output_type": "stream",
     "text": [
      "2\n",
      "s\n"
     ]
    }
   ],
   "source": [
    "def find_max(a, b):\n",
    "    if a > b:\n",
    "        return a\n",
    "    elif a < b:\n",
    "        return b\n",
    "    else:\n",
    "        return \"equal\"\n",
    "    \n",
    "print(find_max(1, 2))\n",
    "print(find_max(\"as\", \"s\"))\n",
    "# print(find_max([1], 2)) --> Error"
   ]
  },
  {
   "cell_type": "markdown",
   "metadata": {},
   "source": [
    "<div class=\"persian\" style=\"direction:rtl\">\n",
    "<font face=\"B Nazanin\" size=3>\n",
    "<h3>مثال</h3>\n",
    "تابعی بنویسید که یک تابع و یک لیست را ورودی بگیرد و آن تابع را روی  تک‌تک اعضای  لیست اجرا کرده و خروجی آنها را در قالب یک لیست برگرداند.\n",
    "</font>\n",
    "</div>\n",
    "\n",
    "\n",
    "\n"
   ]
  },
  {
   "cell_type": "code",
   "execution_count": null,
   "metadata": {},
   "outputs": [],
   "source": [
    "def sqr(x):\n",
    "    return x * x\n",
    "\n",
    "def mapper(func, collection):\n",
    "    # Place your code here\n",
    "    pass\n",
    "\n",
    "mapper(sqr, [1, 2, 3, 4,])\n",
    "# Output should be [1, 4, 9, 16]\n",
    "\n",
    "mapper(max, [[1, 2, 3], [-1, 0, 2], (3, 0, 3)])\n",
    "# Output should be [3, 2, 3]"
   ]
  },
  {
   "cell_type": "markdown",
   "metadata": {},
   "source": [
    "<div class=\"persian\" style=\"direction:rtl\">\n",
    "<font face=\"B Nazanin\" size=3>\n",
    "حالا می‌توانیم برنامه‌ای بنویسیم که یک آرایه را در یک خط ورودی گرفته و جمع اعضای آن را محاسبه کند.\n",
    "<br>\n",
    "    شایان ذکر است که \n",
    "تابع بالا در زبان پایتون تحت عنوان تابع map پیاده سازی شده است\n",
    ".\n",
    "</font>\n",
    "</div>"
   ]
  },
  {
   "cell_type": "code",
   "execution_count": null,
   "metadata": {},
   "outputs": [],
   "source": []
  },
  {
   "cell_type": "markdown",
   "metadata": {},
   "source": [
    "<div class=\"persian\" style=\"direction:rtl\">\n",
    "<font face=\"B Nazanin\" size=3>\n",
    "<h3>انواع پارامتر‌های ورودی توابع</h3>\n",
    "در حین صدا زدن تابع، برای مقدار‌دهی پارامتر‌های ورودی آن می‌توانید طبق ترتیب تعریف آنها مقداردهی کنید(روش عادی) و\n",
    "یا با استفاده از اسم آنها مقدار دهی کنید \n",
    "<br>\n",
    "روش دوم برای مواقعی که تعداد ورودی ها زیاد است و حفظ کردن ترتیب آن‌ها ساده نیست بسیار مفید است\n",
    "<br>\n",
    "هم چنین روش دوم برای مواقعی که تعداد زیادی از ورودی‌ها مقدار پیش‌فرض دارند و ما فقط می‌خواهیم مقدار تعداد کمی از پارامترها را صراحتا تعیین کنیم مفید است\n",
    "</font>\n",
    "</div>"
   ]
  },
  {
   "cell_type": "code",
   "execution_count": null,
   "metadata": {},
   "outputs": [],
   "source": [
    "def add_to_class(student, clas, force=False, check_grades=False, absense=0):\n",
    "    # do something...\n",
    "    pass\n",
    "\n",
    "add_to_class('ali', absense=2, clas='40254-1')"
   ]
  },
  {
   "cell_type": "markdown",
   "metadata": {},
   "source": [
    "<div class=\"persian\" style=\"direction:rtl\">\n",
    "<font face=\"B Nazanin\" size=3>\n",
    "توابع در پایتون هم‌چنین می‌توانند آرگومان‌های ورودی متغیر (varargs) داشته باشند\n",
    "<br>\n",
    "به عنوان مثال یک تابع را مشاهده می‌کنید که همه اعداد ورودی اش را جمع ‌میزند\n",
    "</font>\n",
    "</div>"
   ]
  },
  {
   "cell_type": "code",
   "execution_count": 45,
   "metadata": {},
   "outputs": [
    {
     "name": "stdout",
     "output_type": "stream",
     "text": [
      "15\n"
     ]
    }
   ],
   "source": [
    "def sum(*args):\n",
    "    out = 0\n",
    "    for a in args:\n",
    "        out += a\n",
    "    return out\n",
    "\n",
    "print(sum(1, 2, 3, 4, 5))"
   ]
  },
  {
   "cell_type": "markdown",
   "metadata": {},
   "source": [
    "<div class=\"persian\" style=\"direction:rtl\">\n",
    "<font face=\"B Nazanin\" size=3>\n",
    "<h3>کلاس‌ها</h3>\n",
    "برای تعریف یک کلاس در پایتون از کلمه‌ی کلیدی class استفاده می‌شود.\n",
    "    متغیرهای یک کلاس به صورت داینامیک به آن اضافه می‌شوند و در اصل داخل یک دیکشنری نگه داشته می‌شوند که با `__dict__` قابل دسترسی است.\n",
    "</font>\n",
    "</div>"
   ]
  },
  {
   "cell_type": "code",
   "execution_count": null,
   "metadata": {},
   "outputs": [],
   "source": []
  },
  {
   "cell_type": "markdown",
   "metadata": {},
   "source": [
    "<div class=\"persian\" style=\"direction:rtl\">\n",
    "<font face=\"B Nazanin\" size=3>\n",
    "شما می‌توانید در داخل بدنه‌ی کلاس اقدام به تعریف متغیر کنید ولی دقت کنید که در حقیقت این متغیرهای شما استاتیک خواهند بود.\n",
    "</font>\n",
    "</div>"
   ]
  },
  {
   "cell_type": "code",
   "execution_count": null,
   "metadata": {},
   "outputs": [],
   "source": []
  },
  {
   "cell_type": "markdown",
   "metadata": {},
   "source": [
    "<div class=\"persian\" style=\"direction:rtl\">\n",
    "<font face=\"B Nazanin\" size=3>\n",
    "توابع کلاسی نیز عینا مثل توابع عادی هستند با این تفاوت که اولین متغیری که ورودی میگیرند خود آن instance از کلاس است که این تابع را صدا زده است؛  این استاندارد اصلی صدا زدن توابع کلاسی در زبان‌های برنامه‌نویسی است ولی در پایتون به صورت صریح (explicit) باید این ورودی نوشته و اسم داده شود؛ که معمولن از نام `self` برای آن استفاده می‌شود. \n",
    "\n",
    "</font>\n",
    "</div>"
   ]
  },
  {
   "cell_type": "code",
   "execution_count": 50,
   "metadata": {},
   "outputs": [
    {
     "name": "stdout",
     "output_type": "stream",
     "text": [
      "44\n"
     ]
    }
   ],
   "source": [
    "class X:\n",
    "    def f(self, b):\n",
    "        return self.a + b\n",
    "    \n",
    "x = X()\n",
    "x.a = 34\n",
    "print(x.f(10))"
   ]
  },
  {
   "cell_type": "markdown",
   "metadata": {},
   "source": [
    "<div class=\"persian\" style=\"direction:rtl\">\n",
    "<font face=\"B Nazanin\" size=3>\n",
    "تعدادی اسم خاص برای توابع نیز وجود دارد که از آن‌ها می‌توان به سازنده کلاس یا `__init__` و تابع `__str__` اشاره کرد.\n",
    "</font>\n",
    "</div>"
   ]
  },
  {
   "cell_type": "markdown",
   "metadata": {},
   "source": [
    "<div class=\"persian\" style=\"direction:rtl\">\n",
    "<font face=\"B Nazanin\" size=3>\n",
    "<h2>مباحث پیشرفته</h2>\n",
    "این مباحث در کارگاه تدریس نمی‌شوند و تنها برای مطالعه‌ی علاقه‌مندان هستند.\n",
    "</font>\n",
    "</div>"
   ]
  },
  {
   "cell_type": "markdown",
   "metadata": {},
   "source": [
    "<div class=\"persian\" style=\"direction:rtl\">\n",
    "<font face=\"B Nazanin\" size=3>\n",
    "<h3>\n",
    "دربرگیرنده‌ها\n",
    "(Wrappers یا Decorators)\n",
    "</h3>\n",
    "شما در پایتون می‌توانید تابعی تعریف کنید که یک تابع دیگر را در بر میگیرد و در هنگام فراخوانی آن تابع، تابع دربرگیرنده فراخوانی می‌شود و ورودی اول تابع دربرگیرنده، تابع اصلی خواهد بود\n",
    ".\n",
    "    در مثال زیر وقتی تابع `g` تابع `f` را در بر میگیرد، هر موقع `f` را صدا می‌زنید مفسر آن‌را به `g(f)` تبدیل میکند. در مثال زیر تابع `g` همان تابع `f` را برمیگرداند ولی می‌توان استفاده‌های دیگری نیز از آن کرد.\n",
    "</font>\n",
    "</div>"
   ]
  },
  {
   "cell_type": "code",
   "execution_count": null,
   "metadata": {},
   "outputs": [],
   "source": [
    "def g(f):\n",
    "    return f\n",
    "\n",
    "@g\n",
    "def f(a, b):\n",
    "    return 2\n",
    "\n",
    "f(1, 2) # --> g(f)(1,2)"
   ]
  },
  {
   "cell_type": "markdown",
   "metadata": {},
   "source": [
    "<div class=\"persian\" style=\"direction:rtl\">\n",
    "<font face=\"B Nazanin\" size=3>\n",
    "در مثال زیر اگر تابعی که `tester` در برمیگیرد به ازای ورودی `1` خروجی \n",
    "`0` بدهد همان تابع را برمی‌گرداند و در غیر این صورت تابع همانی برمیگرداند و عملا تابع اصلی را از کار می‌اندازد!\n",
    "</font>\n",
    "</div>"
   ]
  },
  {
   "cell_type": "code",
   "execution_count": null,
   "metadata": {},
   "outputs": [],
   "source": [
    "def homo(x):\n",
    "    return x\n",
    "\n",
    "def tester(f):\n",
    "    if f(1) == 0:\n",
    "        return f\n",
    "    return homo\n",
    "\n",
    "@tester\n",
    "def func(x):\n",
    "    return 2 * x\n",
    "\n",
    "@tester\n",
    "def func2(x):\n",
    "    return x - 1\n",
    "\n",
    "print(func(3), func(4), func(5))\n",
    "# in fact: \n",
    "# print(tester(func)(3), tester(func)(4), tester(5))\n",
    "# so: print(homo(3), homo(4), homo(5))\n",
    "\n",
    "print(func2(3), func2(4), func2(5))"
   ]
  },
  {
   "cell_type": "markdown",
   "metadata": {},
   "source": [
    "<div class=\"persian\" style=\"direction:rtl\">\n",
    "<font face=\"B Nazanin\" size=3>\n",
    "یکی از کاربردهای دربرگیرنده در مثال زیر مشخص است؛ فرض کنید که شما می‌خواهید زمان اجرای یک تابع را محاسبه کنید؛ برای این کار باید یک دربرگیرنده دور آن قرار دهید که قبل و بعد از اجرای تابع، زمان سیستم را محاسبه و اختلاف را نشان دهد؛ اما اگر بخواهید مشابه قسمت قبل این کار را انجام دهید، نمی‌توانید بعد از `return` از دربرگیرنده زمان را محاسبه  کنید پس یک تابع درونی باید تعریف کنید که ورودی‌هایش مشابه ورودی‌های تابع اصلی است و آن را از دربرگیرنده خروجی دهید؛ حالا تابع درونی میتواند قبل و بعد از فراخوانی تابع اصلی زمان سیستم را محاسبه کند.\n",
    "</font>\n",
    "</div>"
   ]
  },
  {
   "cell_type": "code",
   "execution_count": null,
   "metadata": {},
   "outputs": [],
   "source": [
    "from time import time as python_time\n",
    "\n",
    "def timer(func):\n",
    "    def wrapper(a, b):\n",
    "        start = python_time()\n",
    "        ret = func(a, b)\n",
    "        end = python_time()\n",
    "        print(\"time = \" + str(end - start))\n",
    "        return ret\n",
    "    return wrapper\n",
    "    \n",
    "@timer\n",
    "def func(a, b):\n",
    "    for i in range(a, b):\n",
    "        [1, 2, 3, 4, 5]\n",
    "    return 2\n",
    "\n",
    "print(func(1, 10)) # --> timer(func)(1, 10) --> wrapper (1, 10)\n",
    "print(func(1, b=100000))"
   ]
  },
  {
   "cell_type": "markdown",
   "metadata": {},
   "source": [
    "<div class=\"persian\" style=\"direction:rtl\">\n",
    "<font face=\"B Nazanin\" size=3>\n",
    "یکی دیگر از کاربردهای جالب دربرگیرنده ذخیره‌کردن خروجی توابع\n",
    "در یک دیکشنری است تا از فراخوانی‌های تکراری یک تابع با ورودی یکسان جلوگیری کند. این روش خصوصا در توابع بازگشی بسیار مفید است؛ در مثال زیر  مشاهده میکنید که چگونه\n",
    "دربرگیرنده‌ی `memoize` مقادیر مختلف فیبوناچی را در یک دیکشنری ذخیره می‌کند. با برداشتن دربرگیرنده از بالای تعریف تابع می‌توانید تفاوت در سرعت اجرا را مشاهده کنید.\n",
    "</font>\n",
    "</div>"
   ]
  },
  {
   "cell_type": "code",
   "execution_count": null,
   "metadata": {},
   "outputs": [],
   "source": [
    "import collections\n",
    "\n",
    "def memoize(func):\n",
    "    memoizeDict = {}\n",
    "    def wrapper(*args):\n",
    "        if not isinstance(args, collections.Hashable):\n",
    "            # later is better than never!\n",
    "            return func(*args)\n",
    "        elif not args in memoizeDict:\n",
    "            memoizeDict[args] = func(*args)\n",
    "        return memoizeDict[args]\n",
    "    return wrapper\n",
    "\n",
    "# Comment the below line to feel the difference\n",
    "@memoize \n",
    "def fib_memoized(n):\n",
    "    if n <= 1:\n",
    "        return 1\n",
    "    return fib_memoized(n-1) + fib_memoized(n-2)\n",
    "\n",
    "for i in range(30, 35):\n",
    "    start = time.time()\n",
    "    value = fib_memoized(i)\n",
    "    print('%dth fibonacci number is %d ' % (i, value) + \\\n",
    "          'it took %.4f secs to calculate' % (time.time() - start))"
   ]
  },
  {
   "cell_type": "markdown",
   "metadata": {},
   "source": [
    "<div class=\"persian\" style=\"direction:rtl\">\n",
    "<font face=\"B Nazanin\" size=3>\n",
    "دقت کنید که اگر دربرگیرنده را با پرانتز صدا بزنید درواقع دارید تابعی را صدا می‌زنید که باید خروجی‌اش یک دربرگیرنده باشد، یعنی انگار یک تابع دیگر دور تابع قبلی قرار داده‌اید. از این روش معمولا در مواقعی استفاده می‌شود که خود دربرگیرنده بخواهد ورودی داشته باشد.\n",
    "</font>\n",
    "</div>"
   ]
  },
  {
   "cell_type": "code",
   "execution_count": null,
   "metadata": {},
   "outputs": [],
   "source": [
    "def g():\n",
    "    def inner(f):\n",
    "        def wrapper(a, b):\n",
    "            print(\"A + B =\", a + b)\n",
    "            return a * b\n",
    "        return wrapper\n",
    "    return inner\n",
    "    \n",
    "@g()\n",
    "def f(a, b):\n",
    "    return 2\n",
    "\n",
    "print(f(1, 2)) # --> g()(f)(1,2) --> inner(f)(1,2) --> wrapper(1,2) --> 1 * 2"
   ]
  },
  {
   "cell_type": "markdown",
   "metadata": {},
   "source": [
    "<div class=\"persian\" style=\"direction:rtl\">\n",
    "<font face=\"B Nazanin\" size=3>\n",
    "<h3>نصب کردن پکیج‌های جانبی</h3>\n",
    "یکی از قوی‌ترین جنبه‌های زبان پایتون کتابخانه‌هایی اند که برای انجام تقریبا هرگونه کاری در پایتون نوشته شده‌اند. برای استفاده از این کتابخانه‌ها ابتدا باید آن‌ها را بر روی کامپیوتر (در کتابخانه‌های نسخه‌ی پایتون خود) نصب کنید. متداول‌ترین روش برای این‌کار استفاده از ابزار `pip` است که به راحتی و با الگوری زیر می‌توانید اقدام به نسب پکیج مدنظر بکنید.\n",
    "<br>\n",
    "    <span dir=\"ltr\">\n",
    "        `pip install <libraryName>[==version]`\n",
    "    </span>\n",
    "<br/>\n",
    "سپس با `import` کردن آن کتاب‌خانه می‌توانید از آن در برنامه‌ی خود استفاده کنید؛ دقت کنید که لازم نیست کل پکیج را `import` کنید و فقط می‌توانید توابع یا کلاس‌ها یا متغیر‌های مورد نیاز خود را `import` کنید.\n",
    "</font>\n",
    "</div>"
   ]
  },
  {
   "cell_type": "markdown",
   "metadata": {},
   "source": [
    "<div class=\"persian\" style=\"direction:rtl\">\n",
    "<font face=\"B Nazanin\" size=3>\n",
    "\n",
    "\n",
    "<h3>مثال</h3>\n",
    "در مثال زیر با استفاده از دربرگیرنده‌ی `timer` زمان اجرای الگوریتم‌های مختلف مرتب‌سازی حساب می‌شوند و به عنوان خروجی تابع برگردانده می‌شوند؛ سپس یک آرایه‌ی بزرگ با مقادیر تصادفی تولید شده و `i` عضو اول آن به  توابع مرتب‌سازی داده می‌شود تا زمان اجرای آن‌ها محاسبه شود؛ به این ترتیب زمان اجرای این توابع را برای ورودی‌های با اندازه‌ی صفر تا 10000 داریم و با استفاده از تابع `plot` نمودار آن‌را رسم می‌کنیم. دقت کنید که فقط مقادیر `y` را به تابع دادیم و خودش مقادیر `x` را به صورت پیش‌فرض تعیین کرد. البته می‌توان مقادیر `x` را هم مشخص کرد که برای توضیحات بیشتر به راهنما‌های این کتابخانه مراجعه کنید.\n",
    "</font>\n",
    "</div>"
   ]
  },
  {
   "cell_type": "code",
   "execution_count": null,
   "metadata": {},
   "outputs": [],
   "source": [
    "import random\n",
    "import time\n",
    "import matplotlib.pyplot as plot\n",
    "\n",
    "def timer(func):\n",
    "    def wrapper(*args):\n",
    "        start = time.time()\n",
    "        ret = func(*args)  # change the input!\n",
    "        end = time.time()\n",
    "        return end - start\n",
    "    return wrapper\n",
    "\n",
    "@timer\n",
    "def bubble(a):\n",
    "    for i in range(len(a)):\n",
    "        for j in range(len(a)-i-1):\n",
    "            if a[j] > a[j+1]:\n",
    "                a[j], a[j+1] = a[j+1], a[j]\n",
    "\n",
    "\n",
    "@timer\n",
    "def selection(a):\n",
    "    for i in range(len(a)):\n",
    "        max_index = -1\n",
    "        for j in range(len(a)-i):\n",
    "            if max_index == -1 or a[j] > a[max_index]:\n",
    "                max_index = j\n",
    "        a[len(a)-i-1], a[max_index] = a[max_index], a[len(a)-i-1]\n",
    "@timer\n",
    "def insertion(a):\n",
    "    n = len(a)\n",
    "    for i in range(n):\n",
    "        while i > 0 and a[i] < a[i-1]:\n",
    "            a[i], a[i-1] = a[i-1], a[i]\n",
    "            i -= 1\n",
    "        \n",
    "arr = [random.randint(1, 10000) for i in range(5000)]\n",
    "plot.plot([bubble(arr[:i]) for i in range(500)], 'r', [selection(arr[:i]) for i in range(500)], 'b', \n",
    "         [insertion(arr[:i]) for i in range(500)], 'y')\n",
    "plot.show()"
   ]
  }
 ],
 "metadata": {
  "kernelspec": {
   "display_name": "Python 3",
   "language": "python",
   "name": "python3"
  },
  "language_info": {
   "codemirror_mode": {
    "name": "ipython",
    "version": 3
   },
   "file_extension": ".py",
   "mimetype": "text/x-python",
   "name": "python",
   "nbconvert_exporter": "python",
   "pygments_lexer": "ipython3",
   "version": "3.6.0"
  }
 },
 "nbformat": 4,
 "nbformat_minor": 1
}
