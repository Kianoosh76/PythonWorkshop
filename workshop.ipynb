{
 "cells": [
  {
   "cell_type": "markdown",
   "metadata": {},
   "source": [
    "<div style=\"direction:rtl;line-height:300%;\">\n",
    "<font face=\"B Nazanin\" size=5>\n",
    "<div align=center>\n",
    "<font face=\"IranNastaliq\" size=30>\n",
    "<p></p><p></p>\n",
    "به نام خدا\n",
    "<p></p>\n",
    "</font>\n",
    "<font color=#FF7500>\n",
    "دانشگاه صنعتی شریف - دانشکده مهندسی کامپیوتر\n",
    "</font>\n",
    "<p></p>\n",
    "<font color=blue>\n",
    "داده‌ساختارها و الگوریتم‌ها\n",
    "</font>\n",
    "<p></p>\n",
    "کارگاه پایتون\n",
    "</div>\n",
    "</font>\n",
    "<hr/>\n",
    "</div>"
   ]
  },
  {
   "cell_type": "markdown",
   "metadata": {},
   "source": [
    "<div class=\"persian\" style=\"direction:rtl\">\n",
    "<font face=\"B Nazanin\" size=3>\n",
    "<h3>منابع کمکی:</h3>\n",
    "<ul>\n",
    "    <li><a href=\"http://docs.python.org\">مقالات سایت پایتون</a></li>\n",
    "    <li><a href=\"http://webcour.se\">درس</a> طراحی وب سجاد فولادی</li>\n",
    "    <li>قسمت‌های خوب پایتون از <a href=\"http://2013.es.pycon.org/media/Python_the_good_parts.pdf\">Miguel Araujo </a></li>\n",
    "    <li><a href=\"http://interactivepython.org/courselib/static/pythonds/index.html\">Problem Solving with Algorithms and Data Structures</a></li>\n",
    "    <li><a href=\"https://realpython.com/blog/python/primer-on-python-decorators/\">Primer on Python Decorators</a></li>\n",
    "</ul>\n",
    "</font>\n",
    "</div>"
   ]
  },
  {
   "cell_type": "markdown",
   "metadata": {},
   "source": [
    "<div class=\"persian\" style=\"direction:rtl\">\n",
    "<font face=\"B Nazanin\" size=3>\n",
    "<h3>متغیر‌ها</h3>\n",
    "\n",
    "تعریف متغیر در زبان پایتون بر خلاف زبان‌هایی مثل C و جاوا نیازی به مشخص‌کردن صریح نوع متغیر ندارد و خود مفسر (interpreter) نوع متغیر را از روی مقداری که به آن داده‌شده تعیین میکند؛ بنابراین نباید تصور کرد که در زبان پایتون متغیرها نوع ندارند؛ تابع `type` نیز نوع متغیر ورودی را خروجی می‌دهد.\n",
    "\n",
    "<br>\n",
    "در حالت کلی زبان‌های برنامه‌نویسی از نظر نوع متغیر‌هایشان دو نوع دسته‌بندی دارندد:\n",
    "\n",
    "<h4>Static/Dynamic typing</h4>\n",
    "در زبان‌های statically typed نوع یک متغیر در تمام عمرش ثابت است و نمی‌تواند بعدا عوض شود؛ اکثر زبان‌هایی که تابه‌حال دیده‌اید این ویژگی را دارند ولی مثلا زبان php این‌گونه نیست و بعد از تعریف یک متغیر میتوانید بعدا نوع آن را عوض کنید.\n",
    "<h4>Strong/Weak typing</h4>\n",
    "در زبان‌های Strong typed متغیرها به صورت ضمنی یا صریح به هم تبدیل نمیشوند؛ یک مثال از یک زبان Weakly typed زبان C است که علاوه بر تبدیل شدن (casting) ضمنی متغیرهای int و bool و double به یکدیگر،‌شما می‌توانید هر دو نوع متغیری را به هم تبدیل کنید! کافی است اشاره‌گر به متغیر اول را یکبار به `void *` تبدیل کرده و سپس آن را به اشاره‌گری به نوع متغیر دوم تبدیل کنید!\n",
    "\n",
    "<br>\n",
    "با این توصیفات زبان پایتون در دسته‌بندی نوع اول یک زبان Dynamically typed است و شما می‌توانید نوع یک متغیر را در طول زمان عوض کنید‌(مثال ۱)\n",
    ".در دسته‌بندی دوم نیز این زبان یک زبان Strongly typed است و انواع مختلف متغیر‌ها در حالت کلی به هم تبدیل نمی‌شوند. در مثال دوم شما مشاهده میکنید که جمع یک عدد با یک رشته چگونه به بروز خطا منجر می‌شود.\n",
    "\n",
    "</font>\n",
    "</div>"
   ]
  },
  {
   "cell_type": "code",
   "execution_count": 2,
   "metadata": {},
   "outputs": [
    {
     "name": "stdout",
     "output_type": "stream",
     "text": [
      "<class 'int'>\n",
      "<class 'str'>\n",
      "<class 'bool'>\n",
      "<class 'list'>\n"
     ]
    }
   ],
   "source": [
    "a = 1\n",
    "print(type(a))\n",
    "a = 'salam'\n",
    "print(type(a))\n",
    "a = True\n",
    "print(type(a))\n",
    "print(type([1, 2, 3]))"
   ]
  },
  {
   "cell_type": "code",
   "execution_count": 3,
   "metadata": {},
   "outputs": [
    {
     "ename": "TypeError",
     "evalue": "unsupported operand type(s) for +: 'int' and 'str'",
     "output_type": "error",
     "traceback": [
      "\u001b[0;31m---------------------------------------------------------------------------\u001b[0m",
      "\u001b[0;31mTypeError\u001b[0m                                 Traceback (most recent call last)",
      "\u001b[0;32m<ipython-input-3-b5d2ee804550>\u001b[0m in \u001b[0;36m<module>\u001b[0;34m()\u001b[0m\n\u001b[0;32m----> 1\u001b[0;31m \u001b[0mprint\u001b[0m\u001b[0;34m(\u001b[0m\u001b[0;36m1\u001b[0m \u001b[0;34m+\u001b[0m \u001b[0;34m'a'\u001b[0m\u001b[0;34m)\u001b[0m\u001b[0;34m\u001b[0m\u001b[0m\n\u001b[0m",
      "\u001b[0;31mTypeError\u001b[0m: unsupported operand type(s) for +: 'int' and 'str'"
     ]
    }
   ],
   "source": [
    "print(1 + 'a')"
   ]
  },
  {
   "cell_type": "markdown",
   "metadata": {},
   "source": [
    "<div class=\"persian\" style=\"direction:rtl\">\n",
    "<font face=\"B Nazanin\" size=3>\n",
    "<h3>برخی انواع مهم داده:</h3>\n",
    "<ul>\n",
    "    <li>Boolean یا همان: True و False (به بزرگ و کوچک بودن حروف دقت کنید)</li>\n",
    "    <li>اعداد: int, long, float, complex</li>\n",
    "    <li>رشته‌ها</li>\n",
    "    <li>None: معادل NULL در C++</li>\n",
    "    <li>List و Tuple</li>\n",
    "    <li>دیکشنری</li>\n",
    "</ul>\n",
    "</font>\n",
    "</div>"
   ]
  },
  {
   "cell_type": "markdown",
   "metadata": {},
   "source": [
    "<div class=\"persian\" style=\"direction:rtl\">\n",
    "<font face=\"B Nazanin\" size=3>\n",
    "<h3>متغیرهای عددی</h3>\n",
    "اعداد صحیح، اعشاری، مختلط و عملیات حسابی بین آنها\n",
    "که مثال‌هایی از آن‌ها را مشاهده می‌کنید.\n",
    "</font>\n",
    "</div>"
   ]
  },
  {
   "cell_type": "code",
   "execution_count": null,
   "metadata": {},
   "outputs": [],
   "source": [
    "a = 6         # int\n",
    "b = 4\n",
    "d = 3.5       # float (there is no double)\n",
    "c1 = 1+2j     # complex\n",
    "c2 = 2+1j\n",
    "big_int = 123 ** 50\n",
    "\n",
    "print(a + d) \n",
    "print(type(a + d))\n",
    "\n",
    "print(a // b)   # int division\n",
    "print(a / d)\n",
    "\n",
    "print(c1 + c2) # complex addition\n",
    "print(type(c1 + c2))\n",
    "\n",
    "print(c1 * c2) # complex multiplication\n",
    "\n",
    "print(big_int, type(big_int)) # python has big-integers?"
   ]
  },
  {
   "cell_type": "markdown",
   "metadata": {},
   "source": [
    "<div class=\"persian\" style=\"direction:rtl\">\n",
    "<font face=\"B Nazanin\" size=3>\n",
    "<h3>رشته ها</h3>\n",
    "<ul>\n",
    "    <li>در زبان پایتون برای مشخص کردن رشته می‌توانید از `'` یا `\"` استفاده کنید و از نگاه مفسر این دو تفاوتی ندارند. فایده‌ی این موضوع این است که اگر در میان رشته‌ی شما کاراکتر `\"` وجود داشته باشد، میتوانید دو سر رشته را با `'` مشخص کنید و برعکس.</li>\n",
    "    <li>عبارت‌هایی مثل `n\\` یا `t\\` .در رشته‌ها پشتیبانی می‌شوند</li>\n",
    "    <li>عملیات جمع دو رشته و ضرب عدد در رشته نیز در این زبان به سادگی قابل انجام هستند.</li>\n",
    "\n",
    "\n",
    "<li>دسترسی به زیررشته: slicing یکی از قابلیت‌های بسیار مفید در پایتون است.\n",
    "\n",
    "</li>\n",
    "\n",
    "</ul>\n",
    "\n",
    "\n",
    "</font>\n",
    "</div>"
   ]
  },
  {
   "cell_type": "code",
   "execution_count": null,
   "metadata": {
    "scrolled": true
   },
   "outputs": [],
   "source": [
    "s1 = 'hello guys, i\\'m a string!'\n",
    "print(s1)\n",
    "s1 = \"hello guys, i'm a string!\"\n",
    "print(s1)\n",
    "s1 = \"hello guys, i'm \\n also a \\t string\"\n",
    "print(s1)"
   ]
  },
  {
   "cell_type": "code",
   "execution_count": null,
   "metadata": {},
   "outputs": [],
   "source": [
    "print('salam ' + 'Akbar')\n",
    "print(('s' + 't') *4)\n",
    "\n",
    "s = 'a =' + str(102)\n",
    "print(s)"
   ]
  },
  {
   "cell_type": "markdown",
   "metadata": {},
   "source": [
    "<div class=\"persian\" style=\"direction:rtl\">\n",
    "<font face=\"B Nazanin\" size=3>\n",
    "<h3>رشته های فرمت‌دار</h3>\n",
    "    در زبان پایتون\n",
    "برای تولید رشته‌هایی که شامل پارامترهای مختلفی هستند راه‌های مختلفی وجود دارد؛ یک راه روش استاندارد فرمت‌دار کردن رشته‌هاست که در بسیاری از زبان‌ها پشتیبانی می‌شود (`%d` و `%f` و ...)\n",
    "    ؛ \n",
    "    روش دیگر، استفاده از عملگر جمع بین قسمت‌های مختلف است ولی بهترین روش استفاده از تابع `format` برای رشته‌هاست که کار را بسیار ساده می‌کند.\n",
    "    \n",
    "</font>\n",
    "</div>"
   ]
  },
  {
   "cell_type": "code",
   "execution_count": null,
   "metadata": {},
   "outputs": [],
   "source": [
    "n = 10\n",
    "place = 'football'\n",
    "time = 10.5\n",
    "\n",
    "s = 'ma %d ta doost boodim baham raftim %s saate %.1f' %(n, place, time)\n",
    "print(s)\n",
    "\n",
    "s = 'ma ' + str(n) + ' ta doost boodim baham raftim ' + place + ' saate ' + str(time)\n",
    "print(s)\n",
    "\n",
    "s = 'ma {} ta doost boodim baham raftim {} saate {}'.format(n, place, time)\n",
    "print(s)"
   ]
  },
  {
   "cell_type": "markdown",
   "metadata": {},
   "source": [
    "<div class=\"persian\" style=\"direction:rtl\">\n",
    "<font face=\"B Nazanin\" size=3>\n",
    "<h3>مثال</h3>\n",
    "سه عدد را ورودی بگیرید و بین آنها *** چاپ کنید\n",
    "\n",
    "</font>\n",
    "</div>"
   ]
  },
  {
   "cell_type": "code",
   "execution_count": null,
   "metadata": {},
   "outputs": [],
   "source": []
  },
  {
   "cell_type": "markdown",
   "metadata": {},
   "source": [
    "<div class=\"persian\" style=\"direction:rtl\">\n",
    "<font face=\"B Nazanin\" size=3>\n",
    "<h3>Slicing در رشته‌ها</h3>\n",
    "دسترسی به زیررشته‌های یک رشته در زبان پایتون بسیار ساده است. این قواعد که برای \n",
    "آرایه‌ها هم برقرار است (که بعدا مشاهده خواهید کرد)\n",
    "slicing نام دارد. در زیر چندین مثال از دسترسی به قسمت‌های مختلف یک رشته را مشاهده می‌کنید.\n",
    "</font>\n",
    "</div>"
   ]
  },
  {
   "cell_type": "code",
   "execution_count": null,
   "metadata": {},
   "outputs": [],
   "source": [
    "s = 'chanta yadak kesh jam kardim dore khodemun'\n",
    "\n",
    "print(s[1], type(s[1]))\n",
    "print(s[0:5])\n",
    "print(s[-1])\n",
    "print(s[-3:-1])\n",
    "print(s[0:9:2])"
   ]
  },
  {
   "cell_type": "markdown",
   "metadata": {},
   "source": [
    "<div class=\"persian\" style=\"direction:rtl\">\n",
    "<font face=\"B Nazanin\" size=3>\n",
    "<h3>مثال</h3>\n",
    "    یک رشته را ورودی بگیرید و برعکس آن‌را با استفاده از slicing چاپ کنید\n",
    "\n",
    "</font>\n",
    "</div>"
   ]
  },
  {
   "cell_type": "code",
   "execution_count": null,
   "metadata": {},
   "outputs": [],
   "source": []
  },
  {
   "cell_type": "markdown",
   "metadata": {},
   "source": [
    "<div class=\"persian\" style=\"direction:rtl\">\n",
    "<font face=\"B Nazanin\" size=3>\n",
    "<h3>بلاک‌ها</h3>\n",
    "نحوه‌ی indent کردن کد (تورفتگی کد) \n",
    "در پایتون بلاک‌ها را از یکدیگر جدا می‌کند.\n",
    "\n",
    "یعنی پایتون شما را مجبور می‌کند که \n",
    "نحوه‌ی خاصی از تورفتگی‌های کد را استفاده کنید و همانند زبان‌های دیگر این مسئله در دست برنامه‌نویس نیست.\n",
    "<br/>\n",
    "هر tab یا تعدادی space می‌تواند یک مرحله تورفتگی را نشان بدهد.\n",
    "پس شما می‌توانید به انتخاب خودتان از space یا tab برای جدا کردن بلاک‌ها از یکدیگر استفاده کنید (در واقع در پایتون ۳ هر ۴ space برابر یک tab است)\n",
    "اما بهتر است که این دو روش را با هم استفاده نکنید. به این دلیل که هم خوانایی کد را به شدت پایین می‌آورد و هم ترکیب کردن دو کد مختلف که یکی از tab و دیگری از space استفاده می‌کند بسیار می‌تواند سخت باشد.\n",
    "<br/>\n",
    " با اضافه‌کردن یک مرحله تورفتگی، یک بلاک درونی جدید شروع می‌شود و با حذف کردن این تورفتگی بلاک قبلی تمام می‌شود.\n",
    " همیشه وقتی باید یک بلاک جدید شروع شود، یک کاراکتر دونقطه (:) حتما در انتهای خط قبلی آن وجود دارد.\n",
    " <br/>\n",
    " دستوراتی که بعدشان باید یک بلاک جدید شروع شود:\n",
    "<span class=\"codeM\">if و else و for و while و تعریف تابع (def) و ...</span>\n",
    "<br/>\n",
    "دقت کنید که یک بلاک نمی‌تواند هرگز خالی باشد. پس اگر به هر دلیلی بلاک خالی شد، می‌توانید از کلمه‌ی کلیدی\n",
    "<span class=\"codeM\">pass</span>\n",
    "برای خالی نماندن بلاک استفاده کنید.\n",
    "</font>\n",
    "</div>"
   ]
  },
  {
   "cell_type": "markdown",
   "metadata": {},
   "source": [
    "<div class=\"persian\" style=\"direction:rtl\">\n",
    "<font face=\"B Nazanin\" size=3>\n",
    "<h3>ساختار شرطی</h3>\n",
    "if\n",
    "مشابه بقیه زبان‌ها کار می‌کند، فقط با این تفاوت که نیازی نیست دور گزاره‌ی شرطی آن پرانتز گذاشته شود (گذاشتن آن هم مانعی ندارد). نکته‌ی مهمی که بالاتر هم اشاره شده این است که در پایان این دستور باید یک کاراکتر دونقطه (:) نوشته شده و در خط بعدی آن یک بلاک جدید شروع شود.\n",
    "<br/>\n",
    "همچنین در پایتون\n",
    "else if\n",
    "نداریم و به جای آن باید از کلمه‌ی کلیدی \n",
    "<span class=\"codeM\">elif</span>\n",
    "استفاده کرد.\n",
    "<br/>\n",
    "</font>\n",
    "</div>"
   ]
  },
  {
   "cell_type": "code",
   "execution_count": null,
   "metadata": {
    "scrolled": true
   },
   "outputs": [],
   "source": [
    "a = 8\n",
    "if a < 5:\n",
    "    pass\n",
    "elif a < 10:  # this is okay too, but why bother?\n",
    "    print('a is greater than or equal to 5 and less than 10')\n",
    "else:\n",
    "    print('a is greater than or equal to 10')\n",
    "\n",
    "if a < 10 or (2/0):\n",
    "    # the second one must throw a division by zero exception\n",
    "    print('no error was thrown')\n",
    "    # obviously or (also and) is short-circuited\n"
   ]
  },
  {
   "cell_type": "markdown",
   "metadata": {},
   "source": [
    "<div class=\"persian\" style=\"direction:rtl\">\n",
    "<font face=\"B Nazanin\" size=3>\n",
    "<h3>مقدار True و False انواع پایه در گزاره‌های شرطی</h3>\n",
    "    مقادیر زیر در پایتون در یک گزاره‌ی شرطی مقدار False دارند:\n",
    "    <ul>\n",
    "        <li>False</li>\n",
    "        <li>None</li>\n",
    "        <li>صفر عددی: 0، 0.0، 0j</li>\n",
    "        <li>یک دنباله (مثلا رشته) یا مجموعه یا \n",
    "        dict\n",
    "        خالی: ''، \"\"، {}، []، () و غیره</li>\n",
    "    </ul>\n",
    "    هر چیز دیگری مقدار True می‌گیرد.\n",
    "</font>\n",
    "</div>"
   ]
  },
  {
   "cell_type": "code",
   "execution_count": null,
   "metadata": {},
   "outputs": [],
   "source": [
    "s = input()\n",
    "if not s:\n",
    "    print(\"empty input\")"
   ]
  },
  {
   "cell_type": "markdown",
   "metadata": {},
   "source": [
    "<div class=\"persian\"style=\"direction:rtl\">\n",
    "<font face=\"B Nazanin\" size=3>\n",
    "<h3>حلقه‌ها</h3>\n",
    "در پایتون دو حلقه‌ی\n",
    "   `for` و `while`\n",
    "را داریم.\n",
    "<br/>\n",
    "ساختار `while` مشابه با بقیه زبان‌ها است؛ در مثال زیر برنامه‌ای را مشاهده میکنید که تا زمانی که عدد صفر ورودی داده شود، دو برابر ورودی را چاپ می‌کند. هم‌چنین عبارات `break` و `continue` نیز مشابه بقیه زبان‌ها کار می‌کنند.\n",
    "</font>\n",
    "</div>"
   ]
  },
  {
   "cell_type": "code",
   "execution_count": 2,
   "metadata": {},
   "outputs": [
    {
     "name": "stdout",
     "output_type": "stream",
     "text": [
      "1\n",
      "2\n",
      "2\n",
      "4\n",
      "0\n"
     ]
    }
   ],
   "source": [
    "inp = int(input())\n",
    "while inp != 0:\n",
    "    print(2 * inp)\n",
    "    inp = int(input())"
   ]
  },
  {
   "cell_type": "markdown",
   "metadata": {},
   "source": [
    "<div class=\"persian\"style=\"direction:rtl\">\n",
    "<font face=\"B Nazanin\" size=3>\n",
    "<h3>حلقه for</h3>\n",
    "    حلقه for یک «قابل پیمایش» (iterable) میگیرد و روی آن پیمایش می‌کند؛ این قابل پیمایش می‌تواند یک رشته، آرایه، دیکشنری، یا حتی کلاس‌های تعریف‌شده توسط شما باشد\n",
    ".\n",
    "    <br>\n",
    "    در مثال اول کد اسکی تمام کاراکتر های رشته چاپ شده‌اند.\n",
    "    <br>\n",
    "    در مثال دوم از کلاس `range` که یک iterable است استفاده شده تا حلقه روی اعداد در یک بازه‌ی مشخص \n",
    "اجرا شود. ساختار `range` شبیه slicing است که در قسمت‌های قبل بررسی شد.\n",
    "</font>\n",
    "</div>"
   ]
  },
  {
   "cell_type": "code",
   "execution_count": 6,
   "metadata": {},
   "outputs": [
    {
     "name": "stdout",
     "output_type": "stream",
     "text": [
      "65 32 105 115 32 109 121 32 115 116 114 105 110 103 "
     ]
    }
   ],
   "source": [
    "s = \"A is my string\"\n",
    "for c in s:\n",
    "    print(ord(c), end=' ')"
   ]
  },
  {
   "cell_type": "code",
   "execution_count": 7,
   "metadata": {},
   "outputs": [
    {
     "name": "stdout",
     "output_type": "stream",
     "text": [
      "1\n",
      "4\n",
      "7\n"
     ]
    }
   ],
   "source": [
    "for i in range(1, 10, 3):\n",
    "    print(i)"
   ]
  },
  {
   "cell_type": "markdown",
   "metadata": {
    "collapsed": true
   },
   "source": [
    "<div class=\"persian\" style=\"direction:rtl\">\n",
    "<font face=\"B Nazanin\" size=3>\n",
    "<h3>مثال</h3>\n",
    "<ul>\n",
    "    <li>تا زمانی که عدد وارد شده شده اول است ورودی بگیرد وگرنه برنامه را قطع کند</li>\n",
    "</ul>\n",
    "\n",
    "\n",
    "</font>\n",
    "</div>"
   ]
  },
  {
   "cell_type": "code",
   "execution_count": null,
   "metadata": {},
   "outputs": [],
   "source": []
  },
  {
   "cell_type": "markdown",
   "metadata": {},
   "source": [
    "<div class=\"persian\" style=\"direction:rtl\">\n",
    "<font face=\"B Nazanin\" size=3>\n",
    "<h3>مثال</h3>\n",
    "<ul>\n",
    "    <li>دو رشته n حرفی دریافت کند و یک رشته n حرفی شامل حروف بزرگتر هر جایگاه خروجی دهد</li>\n",
    "    <li>نمونه ورودی: رشته های ورودی abcd و yrea هستند و رشته خروجی yred خواهد بود</li>\n",
    "\n",
    "\n",
    "</ul>\n",
    "\n",
    "\n",
    "</font>\n",
    "</div>"
   ]
  },
  {
   "cell_type": "code",
   "execution_count": null,
   "metadata": {},
   "outputs": [],
   "source": []
  },
  {
   "cell_type": "markdown",
   "metadata": {},
   "source": [
    "<div class=\"persian\" style=\"direction:rtl\">\n",
    "<font face=\"B Nazanin\" size=3>\n",
    "<h3>لیست‌ها</h3>\n",
    "لیست‌های پایتون درست مثل vector (آرایه‌های با طول متغیر) در C++ یا Java اند.\n",
    "<br/>\n",
    "مثال: دسترسی جزیی به لیست -- پیمایش لیست‌ها در حلقه -- تعدادی تابع کاربردی در لیست\n",
    "</font>\n",
    "</div>\n"
   ]
  },
  {
   "cell_type": "code",
   "execution_count": null,
   "metadata": {
    "scrolled": false
   },
   "outputs": [],
   "source": [
    "l = [6, 2,\n",
    "     10,\n",
    "     3,\n",
    "     5,]\n",
    "\n",
    "l[-10] = 10\n",
    "#  you can break the lines that are constrined by [] or () or {}\n",
    "# it can be a very good tool for increasing readability\n",
    "     \n",
    "#  also you can leave the last colon (,) be, it doesn't do any harm\n",
    "# it's not necessary either\n",
    "\n",
    "print('length of l is: ' + str(len(l)))\n",
    "\n",
    "print(type(l[0]), type(l))     # the first item\n",
    "print(l[-1])    # the last item\n",
    "print(l[1:3])   # only the second and third item\n",
    "print(l[1:-1])  # everything but the first and the last item\n",
    "print(l[-1::-2])  # everything but the first and the last item\n",
    "print(l[:3])    # the first 3 items\n",
    "print(l[-2:])   # the last 2 items\n",
    "print(l[0:100]) # no error! the whole list is returned\n",
    "print(l[:])"
   ]
  },
  {
   "cell_type": "code",
   "execution_count": null,
   "metadata": {},
   "outputs": [],
   "source": [
    "l.reverse()\n",
    "print(l)        # list is reversed\n",
    "l.sort()\n",
    "print(l)        # list is sorted\n",
    "l.sort(reverse=True)\n",
    "print(l)        # list is sorted in reverse order\n",
    "\n",
    "if 3 in l:\n",
    "    l.remove(3)\n",
    "print(l)\n",
    "\n",
    "l.append(4)\n",
    "l += [34]\n",
    "\n",
    "print(sorted(l))\n",
    "\n",
    "print(l.count(2))\n",
    "\n",
    "print([1, 2, 3] + [4, 5, 6])"
   ]
  },
  {
   "cell_type": "code",
   "execution_count": null,
   "metadata": {},
   "outputs": [],
   "source": [
    "s = 'hello, welcome to python programming!'\n",
    "# string also have slicing!\n",
    "print(s[s.find('w'):s.find('w')+7] + ' to ' + s[:4].upper()+ '!')"
   ]
  },
  {
   "cell_type": "markdown",
   "metadata": {},
   "source": [
    "<div class=\"persian\" style=\"direction:rtl\">\n",
    "<font face=\"B Nazanin\" size=3>\n",
    "<h3>مساله یک</h3>\n",
    "<ul>\n",
    "    <li>یک عدد n از ورودی بگیرید سپس در n خط بعدی اعداد یک دنباله را ورودی بگیرید. در نهایت این آرایه را به روش حبابی مرتب کنید</li>\n",
    "</ul>\n",
    "</div>\n"
   ]
  },
  {
   "cell_type": "code",
   "execution_count": null,
   "metadata": {},
   "outputs": [],
   "source": [
    "a = []\n",
    "n = int(input())\n",
    "\n",
    "for i in range(n):\n",
    "    a.append(int(input()))\n",
    "    \n",
    "for i in range(n):\n",
    "    for j in range(n-i-1):\n",
    "        if a[j] > a[j+1]:\n",
    "            a[j], a[j+1] = a[j+1], a[j]\n",
    "\n",
    "print(a)"
   ]
  },
  {
   "cell_type": "markdown",
   "metadata": {},
   "source": [
    "<div class=\"persian\" style=\"direction:rtl\">\n",
    "<font face=\"B Nazanin\" size=3>\n",
    "<h3>مساله دو</h3>\n",
    "<ul>\n",
    "<li>دو آرایه n عضوی در نظر بگیرید و یک آرایه دو بعدی n در 2 از روی آن دو آٰرایه بسازید</li>\n",
    "</ul>\n",
    "</div>\n"
   ]
  },
  {
   "cell_type": "code",
   "execution_count": null,
   "metadata": {},
   "outputs": [],
   "source": [
    "a = [1, 2, 3, 4]\n",
    "b = [5, 1, 2, 3] \n",
    "\n",
    "output = [[a[i], b[i]] for i in range(len(a))]\n",
    "\n",
    "#for i in range(len(a)):\n",
    "#    output += [[a[i], b[i]]]\n",
    "\n",
    "for i, j in output:\n",
    "    print(i, j)\n",
    "\n",
    "print(output)\n",
    "# output = [[1, 5], [2, 1], [3, 2], [4, 3]]"
   ]
  },
  {
   "cell_type": "markdown",
   "metadata": {},
   "source": [
    "<div class=\"persian\" style=\"direction:rtl\">\n",
    "<font face=\"B Nazanin\" size=3>\n",
    "<h3>مساله سه</h3>\n",
    "<ul>\n",
    "<li>یک آرایه را درنظر بگیرید و همه اعضای آن که از نوع int هستند را در قالب یک آرایه جدید خروجی دهید </li>\n",
    "</ul>\n",
    "</font>\n",
    "</div>\n",
    "\n"
   ]
  },
  {
   "cell_type": "code",
   "execution_count": null,
   "metadata": {},
   "outputs": [],
   "source": [
    "a = [2, 3, 'salam', None, 4, [1, 2, 3], 3.4, 1, 99]\n",
    "b = [x for x in a if isinstance(x, int)]\n",
    "print(b)"
   ]
  },
  {
   "cell_type": "markdown",
   "metadata": {},
   "source": [
    "<div class=\"persian\" style=\"direction:rtl\">\n",
    "<font face=\"B Nazanin\" size=3>\n",
    "<h3>مقداردهی اولیه لیست‌ها </h3>\n",
    "</font>\n",
    "</div>\n",
    "\n",
    "\n"
   ]
  },
  {
   "cell_type": "code",
   "execution_count": null,
   "metadata": {},
   "outputs": [],
   "source": [
    "#arr = [0] * 10\n",
    "arr = [0 for _ in range(10)]\n",
    "print(arr)\n",
    "\n",
    "arr[4] = arr[2] = 11\n",
    "print(arr)"
   ]
  },
  {
   "cell_type": "code",
   "execution_count": null,
   "metadata": {},
   "outputs": [],
   "source": [
    "# beware when using multiplication with lists and other objects\n",
    "arr = [[1,2,3]] * 4  # for example don't do this!\n",
    "arr[0][0] = 13\n",
    "print(arr)\n",
    "\n",
    "# instead you can do this (we'll cover what this means later):\n",
    "arr = [[1,2,3] for _ in range(3)]\n",
    "arr[0][0] = 13\n",
    "print(arr)"
   ]
  },
  {
   "cell_type": "markdown",
   "metadata": {},
   "source": [
    "<div class=\"persian\" style=\"direction:rtl\">\n",
    "<font face=\"B Nazanin\" size=3>\n",
    "<h3>زوج (چند‌تایی)های مرتب</h3>\n",
    "زوج‌های مرتب درست همانند لیست‌های غیرقابل تغییرند.\n",
    "یکی از برتری‌های آن نسبت به لیست این است که زوج‌های مرتب Hashable اند. پس مثلا می‌توان آن‌ها را به عنوان کلید در یک Dictionary (که بعدا می‌بینیم) نگه‌داشت.\n",
    "<br/>\n",
    "</font>\n",
    "</div>"
   ]
  },
  {
   "cell_type": "code",
   "execution_count": null,
   "metadata": {},
   "outputs": [],
   "source": [
    "t = (10,6,19, ())\n",
    "print(t[0])\n",
    "print(t[0:-1])\n",
    "print(t*2)\n",
    "\n",
    "t[1] = 4 # -> TypeError\n",
    "# t.append -> not supported"
   ]
  },
  {
   "cell_type": "code",
   "execution_count": null,
   "metadata": {},
   "outputs": [],
   "source": [
    "a, b, c, d, e= t\n",
    "print(a)\n",
    "print(b)\n",
    "print(c)\n",
    "print(d)\n",
    "print('---')\n",
    "a, b, c = c, b, a  # 3-way swap in one statement!\n",
    "print(a)\n",
    "print(b)\n",
    "print(c)"
   ]
  },
  {
   "cell_type": "markdown",
   "metadata": {},
   "source": [
    "<div class=\"persian\" style=\"direction:rtl\">\n",
    "<font face=\"B Nazanin\" size=3>\n",
    "<h3>مجموعه‌ها</h3>\n",
    "مجموعه‌ها در پایتون همانند HashSet در Java یا set در سی‌پلاس‌پلاس اند.\n",
    "<br/>\n",
    "مجموعه‌ها می‌توانند حداکثر یکی از هر چیز را نگه‌داری کنند (البته هر چیزی که در آن ذخیره می‌شود باید Hashable باشد.\n",
    "پس لیست‌ها و مجموعه‌های دیگر و Dictionary‌ها را نمی‌توان در یک مجموعه نگه‌داشت)\n",
    "</font>\n",
    "</div>"
   ]
  },
  {
   "cell_type": "code",
   "execution_count": null,
   "metadata": {},
   "outputs": [],
   "source": [
    "s = {1,2,3,3, (1,2), 'hasan'}\n",
    "print(s)\n",
    "print(len(s))\n",
    "print(1 in s)\n",
    "print(4 in s)\n",
    "\n",
    "print('-- add:')\n",
    "s.add(4)\n",
    "print(s)\n",
    "print(4 in s)\n",
    "\n",
    "print('-- remove:')\n",
    "s.remove(3)\n",
    "print(s)\n",
    "print(3 in s)\n",
    "\n",
    "for x in s:\n",
    "    print(x, end=' - ')"
   ]
  },
  {
   "cell_type": "markdown",
   "metadata": {},
   "source": [
    "<div class=\"persian\" style=\"direction:rtl\">\n",
    "<font face=\"B Nazanin\" size=3>\n",
    "<h3>دیکشنری</h3>\n",
    "دیکشنری‌ها\n",
    "(یا به اختصار dict)\n",
    "در پایتون بسیار مفیداند و همانند HashMap در Java و map در سی‌پلاس‌پلاس عمل می‌کنند.\n",
    "<br/>\n",
    "در یک dict شما می‌توانید زوج‌های مرتب کلید و مقدار را ذخیره کرده و بعدا بر اساس کلید، مقدار‌ها را پیدا کنید.\n",
    "فقط دقت کنید که کلید باید Hashable باشد.\n",
    "</font>\n",
    "</div>"
   ]
  },
  {
   "cell_type": "code",
   "execution_count": null,
   "metadata": {},
   "outputs": [],
   "source": [
    "a = {1: 2, 'salam': 10, (1, 2, 3): [3, 4, 5]}\n",
    "for key, value in a.items():\n",
    "    print(key, value)\n",
    "\n",
    "a['ali'] = 1\n",
    "a['ali'] = 2\n",
    "print(a['ali'])"
   ]
  },
  {
   "cell_type": "markdown",
   "metadata": {},
   "source": [
    "<div class=\"persian\" style=\"direction:rtl\">\n",
    "<font face=\"B Nazanin\" size=3>\n",
    "<h3>مساله یک</h3>\n",
    "یک دیکشنری را درنظر بگیرید و از روی آن دیکشنری معکوسش را بسازید و بررسی بکنید تابع نگاشت یک به یک بوده یا خیر\n",
    "</font>\n",
    "</div>\n",
    "\n",
    "\n"
   ]
  },
  {
   "cell_type": "code",
   "execution_count": null,
   "metadata": {},
   "outputs": [],
   "source": [
    "a = {1:2, 2:3, 5:3, 4:5}\n",
    "\n",
    "b = {}\n",
    "for key, value in a.items():\n",
    "    b[value] = key\n",
    "\n",
    "b = {value: key for key, value in a.items()}\n",
    "print(b)\n",
    "print(len(a) == len(b))"
   ]
  },
  {
   "cell_type": "markdown",
   "metadata": {},
   "source": [
    "<div class=\"persian\" style=\"direction:rtl\">\n",
    "<font face=\"B Nazanin\" size=3>\n",
    "<h3>مساله دو</h3>\n",
    "تعدادی اسم و فامیل را از ورودی بخواند و بگوید به ازای هر فامیلی چند اسم متمایز وجود داشته است.\n",
    "<br>\n",
    "برای اینکه اسم و فامیل را در یک خط ورودی بخوانید، از تابع split برای رشته‌ها استفاده کنید\n",
    "</font>\n",
    "</div>\n",
    "\n",
    "\n"
   ]
  },
  {
   "cell_type": "code",
   "execution_count": null,
   "metadata": {},
   "outputs": [],
   "source": [
    "n = int(input())\n",
    "names = [input().split() for i in range(n)]\n",
    "\n",
    "count = {}\n",
    "print(type(count))\n",
    "for name, family in names:\n",
    "    if family in count:\n",
    "        count[family].add(name)\n",
    "    else:\n",
    "        count[family] = {name}\n",
    "        \n",
    "print(count)"
   ]
  },
  {
   "cell_type": "markdown",
   "metadata": {},
   "source": [
    "<div class=\"persian\" style=\"direction:rtl\">\n",
    "<font face=\"B Nazanin\" size=3>\n",
    "<h3>توابع</h3>\n",
    "توابع در پایتون با کلمه‌ی کلیدی\n",
    "<span class=\"codeM\">def</span>\n",
    "تعریف می‌شوند.\n",
    "<br/>\n",
    "برای ورودی دادن به تابع می توانید از همان روش ساده‌ی ورودی‌های مرتب استفاده کنید. اما می‌توانید آن‌ها را با استفاده از نام‌شان نیز مقداردهی کنید.\n",
    "<br/>\n",
    "همچنین می‌توانید توابع را همانند دیگر اشیا در متغیر‌ها ذخیره کنید یا به توابع دیگر پاس بدهید.\n",
    "<br/>\n",
    "همچنین می‌توانید در داخل یک تابع، یک تابع دیگر تعریف کنید یا توابع بی‌نام\n",
    "(anonymous function)\n",
    "داشته باشید.\n",
    "(توابع بی‌نام با کلمه‌ی کلیدی\n",
    "<span class=\"codeM\">lambda</span>\n",
    "تعریف می‌شوند)\n",
    "</font>\n",
    "</div>"
   ]
  },
  {
   "cell_type": "code",
   "execution_count": null,
   "metadata": {},
   "outputs": [],
   "source": [
    "def find_max(a, b):\n",
    "    if a > b:\n",
    "        return a\n",
    "    elif a < b:\n",
    "        return b\n",
    "    else:\n",
    "        return \"equal\"\n",
    "    \n",
    "print(find_max(1, 2))\n",
    "print(find_max(3, 3))"
   ]
  },
  {
   "cell_type": "markdown",
   "metadata": {},
   "source": [
    "<div class=\"persian\" style=\"direction:rtl\">\n",
    "<font face=\"B Nazanin\" size=3>\n",
    "نوع متغیرهای ورودی توابع مهم نیست و برنامه‌نویس باید خودش شخصا مراقب نوع این متغیرها باشد.\n",
    "<br>\n",
    "البته این قابلیت آزادی عمل بسیار زیادی به برنامه‌نویس می‌دهد و می‌تواند جهت ساده شدن کد از آن استفاده‌ی زیادی ببرد\n",
    "<h3>مساله یک</h3>\n",
    "تابعی بنویسید که یک تابع ورودی گرفته و آنرا روی تک‌تک اعضای ورودی دوم خود اعمال کند\n",
    "</font>\n",
    "</div>"
   ]
  },
  {
   "cell_type": "code",
   "execution_count": null,
   "metadata": {},
   "outputs": [],
   "source": [
    "def mapper(func, collection):\n",
    "    output = []\n",
    "    for element in collection:\n",
    "        output += [func(element)]\n",
    "    return output\n",
    "\n",
    "mapper(max, [[1, 2, 3], [-1, 0, 2], (3, 0, 3)])"
   ]
  },
  {
   "cell_type": "markdown",
   "metadata": {},
   "source": [
    "<div class=\"persian\" style=\"direction:rtl\">\n",
    "<font face=\"B Nazanin\" size=3>\n",
    "تابع بالا در زبان پایتون تحت عنوان تابع map پیاده سازی شده است\n",
    "<br>\n",
    "حالا می‌توانیم برنامه‌ای بنویسیم که یک آرایه را در یک خط ورودی گرفته و جمع اعضای آن را محاسبه کند\n",
    "</font>\n",
    "</div>"
   ]
  },
  {
   "cell_type": "code",
   "execution_count": null,
   "metadata": {},
   "outputs": [],
   "source": [
    "arr = list(map(int, input().split()))\n",
    "print(type(arr[0]))"
   ]
  },
  {
   "cell_type": "markdown",
   "metadata": {},
   "source": [
    "<div class=\"persian\" style=\"direction:rtl\">\n",
    "<font face=\"B Nazanin\" size=3>\n",
    "<h3>انواع پارامتر‌های ورودی توابع</h3>\n",
    "در حین صدا زدن تابع، برای مقدار‌دهی پارامتر‌های ورودی آن می‌توانید طبق ترتیب تعریف آنها مقداردهی کنید(روش عادی) و\n",
    "یا با استفاده از اسم آنها مقدار دهی کنید \n",
    "<br>\n",
    "روش دوم برای مواقعی که تعداد ورودی ها زیاد است و حفظ کردن ترتیب آن‌ها ساده نیست بسیار مفید است\n",
    "<br>\n",
    "هم چنین روش دوم برای مواقعی که تعداد زیادی از ورودی‌ها مقدار پیش‌فرض دارند و ما فقط می‌خواهیم مقدار تعداد کمی از پارامترها را صراحتا تعیین کنیم مفید است\n",
    "</font>\n",
    "</div>"
   ]
  },
  {
   "cell_type": "code",
   "execution_count": null,
   "metadata": {},
   "outputs": [],
   "source": [
    "def add_to_class(student, clas, force=False, check_grades=False, absense=0):\n",
    "    # do something...\n",
    "    pass\n",
    "\n",
    "add_to_class('ali', absense=2, clas='40254-1')"
   ]
  },
  {
   "cell_type": "markdown",
   "metadata": {},
   "source": [
    "<div class=\"persian\" style=\"direction:rtl\">\n",
    "<font face=\"B Nazanin\" size=3>\n",
    "توابع در پایتون هم‌چنین می‌توانند آرگومان‌های ورودی متغیر (varargs) داشته باشند\n",
    "<br>\n",
    "مثال: یک تابع که همه اعداد ورودی اش را جمع ‌میزند\n",
    "</font>\n",
    "</div>"
   ]
  },
  {
   "cell_type": "code",
   "execution_count": null,
   "metadata": {},
   "outputs": [],
   "source": [
    "def sum(n, *args, **kwargs):\n",
    "    out = 0\n",
    "    for a in args:\n",
    "        out += a\n",
    "    return out\n",
    "\n",
    "print(sum(1, 2, 3, 4, 5, name='salam'))"
   ]
  },
  {
   "cell_type": "markdown",
   "metadata": {},
   "source": [
    "<div class=\"persian\" style=\"direction:rtl\">\n",
    "<font face=\"B Nazanin\" size=3>\n",
    "مطابق پارامتر‌های عادی، آرگومان های متغیر هم می‌توانند با اسم مشخص شوند که به آنها keyword arguments می‌گویند\n",
    "<br>\n",
    "فایده این روش چیست؟\n",
    "\n",
    "</font>\n",
    "</div>"
   ]
  },
  {
   "cell_type": "markdown",
   "metadata": {},
   "source": [
    "<div class=\"persian\" style=\"direction:rtl\">\n",
    "<font face=\"B Nazanin\" size=3>\n",
    "<h2>مباحث پیشرفته</h2>\n",
    "این مباحث در کارگاه تدریس نمی‌شوند و تنها برای مطالعه‌ی علاقه‌مندان هستند.\n",
    "</font>\n",
    "</div>"
   ]
  },
  {
   "cell_type": "markdown",
   "metadata": {},
   "source": [
    "<div class=\"persian\" style=\"direction:rtl\">\n",
    "<font face=\"B Nazanin\" size=3>\n",
    "<h3>\n",
    "دربرگیرنده‌ها\n",
    "(Wrappers یا Decorators)\n",
    "</h3>\n",
    "شما در پایتون می‌توانید تابعی تعریف کنید که یک تابع دیگر را در بر میگیرد و در هنگام فراخوانی آن تابع، تابع دربرگیرنده فراخوانی می‌شود و ورودی اول تابع دربرگیرنده، تابع اصلی خواهد بود\n",
    ".\n",
    "    در مثال زیر وقتی تابع `g` تابع `f` را در بر میگیرد، هر موقع `f` را صدا می‌زنید مفسر آن‌را به `g(f)` تبدیل میکند. در مثال زیر تابع `g` همان تابع `f` را برمیگرداند ولی می‌توان استفاده‌های دیگری نیز از آن کرد.\n",
    "</font>\n",
    "</div>"
   ]
  },
  {
   "cell_type": "code",
   "execution_count": null,
   "metadata": {},
   "outputs": [],
   "source": [
    "def g(f):\n",
    "    return f\n",
    "\n",
    "@g\n",
    "def f(a, b):\n",
    "    return 2\n",
    "\n",
    "f(1, 2) # --> g(f)(1,2)"
   ]
  },
  {
   "cell_type": "markdown",
   "metadata": {},
   "source": [
    "<div class=\"persian\" style=\"direction:rtl\">\n",
    "<font face=\"B Nazanin\" size=3>\n",
    "در مثال زیر اگر تابعی که `tester` در برمیگیرد به ازای ورودی `1` خروجی \n",
    "`0` بدهد همان تابع را برمی‌گرداند و در غیر این صورت تابع همانی برمیگرداند و عملا تابع اصلی را از کار می‌اندازد!\n",
    "</font>\n",
    "</div>"
   ]
  },
  {
   "cell_type": "code",
   "execution_count": null,
   "metadata": {},
   "outputs": [],
   "source": [
    "def homo(x):\n",
    "    return x\n",
    "\n",
    "def tester(f):\n",
    "    if f(1) == 0:\n",
    "        return f\n",
    "    return homo\n",
    "\n",
    "@tester\n",
    "def func(x):\n",
    "    return 2 * x\n",
    "\n",
    "@tester\n",
    "def func2(x):\n",
    "    return x - 1\n",
    "\n",
    "print(func(3), func(4), func(5))\n",
    "# in fact: \n",
    "# print(tester(func)(3), tester(func)(4), tester(5))\n",
    "# so: print(homo(3), homo(4), homo(5))\n",
    "\n",
    "print(func2(3), func2(4), func2(5))"
   ]
  },
  {
   "cell_type": "markdown",
   "metadata": {},
   "source": [
    "<div class=\"persian\" style=\"direction:rtl\">\n",
    "<font face=\"B Nazanin\" size=3>\n",
    "یکی از کاربردهای دربرگیرنده در مثال زیر مشخص است؛ فرض کنید که شما می‌خواهید زمان اجرای یک تابع را محاسبه کنید؛ برای این کار باید یک دربرگیرنده دور آن قرار دهید که قبل و بعد از اجرای تابع، زمان سیستم را محاسبه و اختلاف را نشان دهد؛ اما اگر بخواهید مشابه قسمت قبل این کار را انجام دهید، نمی‌توانید بعد از `return` از دربرگیرنده زمان را محاسبه  کنید پس یک تابع درونی باید تعریف کنید که ورودی‌هایش مشابه ورودی‌های تابع اصلی است و آن را از دربرگیرنده خروجی دهید؛ حالا تابع درونی میتواند قبل و بعد از فراخوانی تابع اصلی زمان سیستم را محاسبه کند.\n",
    "</font>\n",
    "</div>"
   ]
  },
  {
   "cell_type": "code",
   "execution_count": null,
   "metadata": {},
   "outputs": [],
   "source": [
    "from time import time as python_time\n",
    "\n",
    "def timer(func):\n",
    "    def wrapper(a, b):\n",
    "        start = python_time()\n",
    "        ret = func(a, b)\n",
    "        end = python_time()\n",
    "        print(\"time = \" + str(end - start))\n",
    "        return ret\n",
    "    return wrapper\n",
    "    \n",
    "@timer\n",
    "def func(a, b):\n",
    "    for i in range(a, b):\n",
    "        [1, 2, 3, 4, 5]\n",
    "    return 2\n",
    "\n",
    "print(func(1, 10)) # --> timer(func)(1, 10) --> wrapper (1, 10)\n",
    "print(func(1, b=100000))"
   ]
  },
  {
   "cell_type": "markdown",
   "metadata": {},
   "source": [
    "<div class=\"persian\" style=\"direction:rtl\">\n",
    "<font face=\"B Nazanin\" size=3>\n",
    "یکی دیگر از کاربردهای جالب دربرگیرنده ذخیره‌کردن خروجی توابع\n",
    "در یک دیکشنری است تا از فراخوانی‌های تکراری یک تابع با ورودی یکسان جلوگیری کند. این روش خصوصا در توابع بازگشی بسیار مفید است؛ در مثال زیر  مشاهده میکنید که چگونه\n",
    "دربرگیرنده‌ی `memoize` مقادیر مختلف فیبوناچی را در یک دیکشنری ذخیره می‌کند. با برداشتن دربرگیرنده از بالای تعریف تابع می‌توانید تفاوت در سرعت اجرا را مشاهده کنید.\n",
    "</font>\n",
    "</div>"
   ]
  },
  {
   "cell_type": "code",
   "execution_count": null,
   "metadata": {},
   "outputs": [],
   "source": [
    "import collections\n",
    "\n",
    "def memoize(func):\n",
    "    memoizeDict = {}\n",
    "    def wrapper(*args):\n",
    "        if not isinstance(args, collections.Hashable):\n",
    "            # later is better than never!\n",
    "            return func(*args)\n",
    "        elif not args in memoizeDict:\n",
    "            memoizeDict[args] = func(*args)\n",
    "        return memoizeDict[args]\n",
    "    return wrapper\n",
    "\n",
    "# Comment the below line to feel the difference\n",
    "@memoize \n",
    "def fib_memoized(n):\n",
    "    if n <= 1:\n",
    "        return 1\n",
    "    return fib_memoized(n-1) + fib_memoized(n-2)\n",
    "\n",
    "for i in range(30, 35):\n",
    "    start = time.time()\n",
    "    value = fib_memoized(i)\n",
    "    print('%dth fibonacci number is %d ' % (i, value) + \\\n",
    "          'it took %.4f secs to calculate' % (time.time() - start))"
   ]
  },
  {
   "cell_type": "markdown",
   "metadata": {},
   "source": [
    "<div class=\"persian\" style=\"direction:rtl\">\n",
    "<font face=\"B Nazanin\" size=3>\n",
    "دقت کنید که اگر دربرگیرنده را با پرانتز صدا بزنید درواقع دارید تابعی را صدا می‌زنید که باید خروجی‌اش یک دربرگیرنده باشد، یعنی انگار یک تابع دیگر دور تابع قبلی قرار داده‌اید. از این روش معمولا در مواقعی استفاده می‌شود که خود دربرگیرنده بخواهد ورودی داشته باشد.\n",
    "</font>\n",
    "</div>"
   ]
  },
  {
   "cell_type": "code",
   "execution_count": null,
   "metadata": {},
   "outputs": [],
   "source": [
    "def g():\n",
    "    def inner(f):\n",
    "        def wrapper(a, b):\n",
    "            print(\"A + B =\", a + b)\n",
    "            return a * b\n",
    "        return wrapper\n",
    "    return inner\n",
    "    \n",
    "@g()\n",
    "def f(a, b):\n",
    "    return 2\n",
    "\n",
    "print(f(1, 2)) # --> g()(f)(1,2) --> inner(f)(1,2) --> wrapper(1,2) --> 1 * 2"
   ]
  },
  {
   "cell_type": "markdown",
   "metadata": {},
   "source": [
    "<div class=\"persian\" style=\"direction:rtl\">\n",
    "<font face=\"B Nazanin\" size=3>\n",
    "<h3>کلاس‌ها</h3>\n",
    "برای تعریف یک کلاس در پایتون از کلمه‌ی کلیدی class استفاده می‌شود.\n",
    "بعضی از نام‌های توابع هر کلاس معانی خاصی دارند. این توابع همه در ابتدا و انتهایشان دو کاراکتر \n",
    "underline (_)\n",
    "دارند.\n",
    "برای مثال از این بین تابع\n",
    "<span class=\"codeM\">&#95;&#95;init&#95;&#95;</span>\n",
    "که کار همان constructor\n",
    "در زبان‌های دیگر را انجام می‌دهد.\n",
    "مثال‌های دیگر این نوع توابع:\n",
    "    <div class=\"codeM english\">\n",
    "        &#95;&#95;del&#95;&#95; (destructor),\n",
    "        &#95;&#95;eq&#95;&#95; (تابع مساوی),\n",
    "        &#95;&#95;str&#95;&#95; (<span class=\"persian\">toString در Java</span>)\n",
    "    </div>\n",
    "<div class=\"persian\" style=\"direction:rtl\">\n",
    "همچنین یکی از چیز‌هایی که شاید در پایتون با بقیه‌ی زبان‌ها فرق کند این است که در پایتون یک متغیر خاص به نام\n",
    "this\n",
    "نداریم. به جای آن خود شی به عنوان اولین ورودی به تابع پاس داده می‌شود. این ورودی چیز خاصی نیست اما در زبان پایتون از آن با نام \n",
    "self\n",
    "یاد می‌شود و بهتر است شما نیز این قاعده را رعایت کنید. پس هر تابع یکی کلاس حداقل یک ورودی دارد که اولین‌شان همان self است.\n",
    "</div>\n",
    "</font>\n",
    "</div>"
   ]
  },
  {
   "cell_type": "code",
   "execution_count": null,
   "metadata": {},
   "outputs": [],
   "source": [
    "class Car:\n",
    "    model = \"samand\"\n",
    "    \n",
    "class Human:\n",
    "    name = \"ali\"\n",
    "    age = 10\n",
    "    car = [1, 2, 3]\n",
    "\n",
    "a = Human()\n",
    "b = Human()\n",
    "a.salam = 2\n",
    "print(a.__dict__)\n",
    "print(a.salam)\n",
    "\n",
    "a.car.append(2)\n",
    "#a.car = 2\n",
    "print(Car.model)\n",
    "print(b.car)\n"
   ]
  },
  {
   "cell_type": "markdown",
   "metadata": {},
   "source": [
    "<div class=\"persian\" style=\"direction:rtl\">\n",
    "<font face=\"B Nazanin\" size=3>\n",
    "هر کلاس می‌تواند تعدادی فیلد (همان متغیرهای کلاس) داشته باشد. شما می‌توانید در هر لحظه از کد به یک شی متغیری را اضافه کنید (مگر این که از قصد این قابلیت از شما گرفته شده باشد) ولی بهتر است که تمام فیلد‌های یک کلاس در داخل constructor\n",
    "تعریف شوند (یعنی مقدار اولیه بگیرند).\n",
    "همانطور که در مثال بالا دیدید، تعریف متغیر در فضای داخل کلاس باعث می‌شود که آن متغیر بین تمام متغیرهای کلاس  به اشتراک گذاشته شود. برای تعریف متغیر در سطح instance باید در توابع کلاس این‌کار را انجام داد\n",
    "</font>\n",
    "</div>"
   ]
  },
  {
   "cell_type": "code",
   "execution_count": null,
   "metadata": {},
   "outputs": [],
   "source": [
    "class Test:\n",
    "    def __init__(self, *args):\n",
    "        self.b = Car()  # this is the best way\n",
    "        self.c = 0\n",
    "        self.other_value = 10\n",
    "            \n",
    "    def __str__(self):\n",
    "        return \"b is {}\".format(self.c)\n",
    "        \n",
    "    def add_attribute(self, val):\n",
    "        self.e = val\n",
    "\n",
    "o = Test(2, 3)\n",
    "print(o)\n",
    "o.d = 4 # you can even set an attribute outside of the class!\n",
    "o.add_attribute(3)\n",
    "Test.add_attribute(o, 3)\n",
    "o.b.model = \"salam\"\n",
    "r = Test(2, 3)\n",
    "\n",
    "print(r.b.model)\n",
    "\n",
    "print (o.b, o.c, o.d, o.other_value, o.e)"
   ]
  },
  {
   "cell_type": "markdown",
   "metadata": {},
   "source": [
    "<div class=\"persian\" style=\"direction:rtl\">\n",
    "<font face=\"B Nazanin\" size=3>\n",
    "<h3>مساله یک</h3>\n",
    "یک کلاس بسازید که متغیرهای کلاسی آن(در صورت عدم وجود) به صورت کاملا پویا و با مقدار پیش‌فرض اضافه شوند\n",
    "</font>\n",
    "</div>\n",
    "\n",
    "\n"
   ]
  },
  {
   "cell_type": "code",
   "execution_count": null,
   "metadata": {},
   "outputs": [],
   "source": [
    "class Obj:\n",
    "    def add_field(self, field_name, value):\n",
    "        setattr(self, field_name, 323)\n",
    "\n",
    "o = Obj()\n",
    "o.add_field('salam', 12)\n",
    "print(o.salam)"
   ]
  },
  {
   "cell_type": "markdown",
   "metadata": {},
   "source": [
    "<div class=\"persian\" style=\"direction:rtl\">\n",
    "<font face=\"B Nazanin\" size=3>\n",
    "<h3>مساله دو</h3>\n",
    "یک تابع بنویسید که اسم کلاس، فیلدها و مقدارهای پیش‌فرض مدنظر را بگیرد و کار مساله قبلی را انجام دهد\n",
    "</font>\n",
    "</div>\n",
    "\n",
    "\n",
    "\n"
   ]
  },
  {
   "cell_type": "code",
   "execution_count": null,
   "metadata": {},
   "outputs": [],
   "source": [
    "def func(cls, *args, **kwargs):\n",
    "    instance = cls(*args)\n",
    "    for key, value in kwargs.items():\n",
    "        setattr (instance, key, value)\n",
    "    return instance\n",
    "        \n",
    "a = func(Test, 2, 3, name='salam', age=12, car=222)\n",
    "b = func(Test, khar='sag')\n",
    "c = func(Human, human=1, m='22')\n",
    "\n",
    "print(b.khar, type(b), c.m)\n"
   ]
  },
  {
   "cell_type": "markdown",
   "metadata": {},
   "source": [
    "<div class=\"persian\" style=\"direction:rtl\">\n",
    "<font face=\"B Nazanin\" size=3>\n",
    "<h3>نصب کردن پکیج‌های جانبی</h3>\n",
    "یکی از قوی‌ترین جنبه‌های زبان پایتون کتابخانه‌هایی اند که برای انجام تقریبا هرگونه کاری در پایتون نوشته شده‌اند. برای استفاده از این کتابخانه‌ها ابتدا باید آن‌ها را بر روی کامپیوتر (در کتابخانه‌های نسخه‌ی پایتون خود) نصب کنید. متداول‌ترین روش برای این‌کار استفاده از ابزار `pip` است که به راحتی و با الگوری زیر می‌توانید اقدام به نسب پکیج مدنظر بکنید.\n",
    "<br>\n",
    "    <span dir=\"ltr\">\n",
    "        `pip install <libraryName>[==version]`\n",
    "    </span>\n",
    "<br/>\n",
    "سپس با `import` کردن آن کتاب‌خانه می‌توانید از آن در برنامه‌ی خود استفاده کنید؛ دقت کنید که لازم نیست کل پکیج را `import` کنید و فقط می‌توانید توابع یا کلاس‌ها یا متغیر‌های مورد نیاز خود را `import` کنید.\n",
    "</font>\n",
    "</div>"
   ]
  },
  {
   "cell_type": "markdown",
   "metadata": {},
   "source": [
    "<div class=\"persian\" style=\"direction:rtl\">\n",
    "<font face=\"B Nazanin\" size=3>\n",
    "\n",
    "\n",
    "<h3>مثال</h3>\n",
    "در مثال زیر با استفاده از دربرگیرنده‌ی `timer` زمان اجرای الگوریتم‌های مختلف مرتب‌سازی حساب می‌شوند و به عنوان خروجی تابع برگردانده می‌شوند؛ سپس یک آرایه‌ی بزرگ با مقادیر تصادفی تولید شده و `i` عضو اول آن به  توابع مرتب‌سازی داده می‌شود تا زمان اجرای آن‌ها محاسبه شود؛ به این ترتیب زمان اجرای این توابع را برای ورودی‌های با اندازه‌ی صفر تا 10000 داریم و با استفاده از تابع `plot` نمودار آن‌را رسم می‌کنیم. دقت کنید که فقط مقادیر `y` را به تابع دادیم و خودش مقادیر `x` را به صورت پیش‌فرض تعیین کرد. البته می‌توان مقادیر `x` را هم مشخص کرد که برای توضیحات بیشتر به راهنما‌های این کتابخانه مراجعه کنید.\n",
    "</font>\n",
    "</div>"
   ]
  },
  {
   "cell_type": "code",
   "execution_count": null,
   "metadata": {},
   "outputs": [],
   "source": [
    "import random\n",
    "import time\n",
    "import matplotlib.pyplot as plot\n",
    "\n",
    "def timer(func):\n",
    "    def wrapper(*args):\n",
    "        start = time.time()\n",
    "        ret = func(*args)  # change the input!\n",
    "        end = time.time()\n",
    "        return end - start\n",
    "    return wrapper\n",
    "\n",
    "@timer\n",
    "def bubble(a):\n",
    "    for i in range(len(a)):\n",
    "        for j in range(len(a)-i-1):\n",
    "            if a[j] > a[j+1]:\n",
    "                a[j], a[j+1] = a[j+1], a[j]\n",
    "\n",
    "\n",
    "@timer\n",
    "def selection(a):\n",
    "    for i in range(len(a)):\n",
    "        max_index = -1\n",
    "        for j in range(len(a)-i):\n",
    "            if max_index == -1 or a[j] > a[max_index]:\n",
    "                max_index = j\n",
    "        a[len(a)-i-1], a[max_index] = a[max_index], a[len(a)-i-1]\n",
    "@timer\n",
    "def insertion(a):\n",
    "    n = len(a)\n",
    "    for i in range(n):\n",
    "        while i > 0 and a[i] < a[i-1]:\n",
    "            a[i], a[i-1] = a[i-1], a[i]\n",
    "            i -= 1\n",
    "        \n",
    "arr = [random.randint(1, 10000) for i in range(5000)]\n",
    "plot.plot([bubble(arr[:i]) for i in range(500)], 'r', [selection(arr[:i]) for i in range(500)], 'b', \n",
    "         [insertion(arr[:i]) for i in range(500)], 'y')\n",
    "plot.show()"
   ]
  }
 ],
 "metadata": {
  "kernelspec": {
   "display_name": "Python 3",
   "language": "python",
   "name": "python3"
  },
  "language_info": {
   "codemirror_mode": {
    "name": "ipython",
    "version": 3
   },
   "file_extension": ".py",
   "mimetype": "text/x-python",
   "name": "python",
   "nbconvert_exporter": "python",
   "pygments_lexer": "ipython3",
   "version": "3.6.0"
  }
 },
 "nbformat": 4,
 "nbformat_minor": 1
}
