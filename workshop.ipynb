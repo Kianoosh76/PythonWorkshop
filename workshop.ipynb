{
 "cells": [
  {
   "cell_type": "markdown",
   "metadata": {
    "deletable": true,
    "editable": true
   },
   "source": [
    "<div style=\"direction:rtl;line-height:300%;\">\n",
    "<font face=\"XB Zar\" size=5>\n",
    "<div align=center>\n",
    "<font face=\"IranNastaliq\" size=30>\n",
    "<p></p><p></p>\n",
    "به نام خدا\n",
    "<p></p>\n",
    "</font>\n",
    "<font color=#FF7500>\n",
    "دانشگاه صنعتی شریف - دانشکده مهندسی کامپیوتر\n",
    "</font>\n",
    "<p></p>\n",
    "<font color=blue>\n",
    "داده‌ساختارها و الگوریتم‌ها\n",
    "</font>\n",
    "<p></p>\n",
    "ورکشاپ پایتون\n",
    "</div>\n",
    "\n",
    "</font>\n",
    "<hr/>\n",
    "</div>"
   ]
  },
  {
   "cell_type": "markdown",
   "metadata": {
    "collapsed": false,
    "deletable": true,
    "editable": true
   },
   "source": [
    "<div class=\"persian\">\n",
    "<h3>منابع کمکی:</h3>\n",
    "<ul>\n",
    "    <li><a href=\"http://webcour.se\">درس</a> طراحی وب سجاد فولادی</li>\n",
    "    <li>قسمت‌های خوب پایتون از <a href=\"http://2013.es.pycon.org/media/Python_the_good_parts.pdf\">Miguel Araujo </a></li>\n",
    "    <li><a href=\"http://interactivepython.org/courselib/static/pythonds/index.html\">Problem Solving with Algorithms and Data Structures</a></li>\n",
    "</ul>\n",
    "</div>"
   ]
  },
  {
   "cell_type": "code",
   "execution_count": null,
   "metadata": {
    "collapsed": false,
    "deletable": true,
    "editable": true
   },
   "outputs": [],
   "source": [
    "#hello world"
   ]
  },
  {
   "cell_type": "markdown",
   "metadata": {
    "deletable": true,
    "editable": true
   },
   "source": [
    "<div class=\"persian\" style=\"direction:rtl\">\n",
    "<h3>متغیر‌ها</h3>\n",
    "پایتون یک زبان نوع-پویا\n",
    "(dynamically typed) است.\n",
    "ولی با این حال یک زبان\n",
    "strongly-typed\n",
    "است و مفسر(interpreter)\n",
    "نوع متغیرها را میداند و در اجرا لحاظ میکند.\n",
    "<br>\n",
    "مثال:\n",
    "</div>"
   ]
  },
  {
   "cell_type": "code",
   "execution_count": null,
   "metadata": {
    "collapsed": false
   },
   "outputs": [],
   "source": [
    "#deference between plus operator of two integeres and two strings"
   ]
  },
  {
   "cell_type": "code",
   "execution_count": null,
   "metadata": {
    "collapsed": false,
    "deletable": true,
    "editable": true
   },
   "outputs": [],
   "source": [
    "#type and isinstance functions"
   ]
  },
  {
   "cell_type": "markdown",
   "metadata": {
    "deletable": true,
    "editable": true
   },
   "source": [
    "<div class=\"persian\" style=\"direction:rtl\">\n",
    "<h3>برخی انواع مهم داده:</h3>\n",
    "<ul>\n",
    "    <li>Boolean یا همان: True و False (به بزرگ و کوچک بودن حروف دقت کنید)</li>\n",
    "    <li>اعداد: int, long, float, complex</li>\n",
    "    <li>رشته‌ها</li>\n",
    "    <li>None: معادل NULL در C++</li>\n",
    "    <li>List و Tuple</li>\n",
    "    <li>دیکشنری</li>\n",
    "</ul>\n",
    "</div>"
   ]
  },
  {
   "cell_type": "markdown",
   "metadata": {},
   "source": [
    "<div class=\"persian\" style=\"direction:rtl\">\n",
    "<h3>متغیرهای عددی</h3>\n",
    "</div>"
   ]
  },
  {
   "cell_type": "code",
   "execution_count": null,
   "metadata": {
    "collapsed": false,
    "deletable": true,
    "editable": true
   },
   "outputs": [],
   "source": [
    "a = 6         # int\n",
    "b = 4\n",
    "d = 3.5       # float (there is no double)\n",
    "c1 = 1+2j     # complex\n",
    "c2 = 2+1j\n",
    "big_int = 123 ** 50\n",
    "\n",
    "print(a + d) \n",
    "print(type(a + d))\n",
    "\n",
    "print(a // b)   # int division\n",
    "print(a / d)\n",
    "\n",
    "print(c1 + c2) # complex addition\n",
    "print(type(c1 + c2))\n",
    "\n",
    "print(c1 * c2) # complex multiplication\n",
    "\n",
    "print(big_int, type(big_int)) # python has big-integers"
   ]
  },
  {
   "cell_type": "markdown",
   "metadata": {},
   "source": [
    "<div class=\"persian\" style=\"direction:rtl\">\n",
    "<h3>رشته ها</h3>\n",
    "<ul>\n",
    "    <li>رشته ها و کارکتر ها</li>\n",
    "    <li>گیومه تکی و دوتایی</li>\n",
    "    <li>دسترسی به زیررشته</li>\n",
    "\n",
    "</ul>\n",
    "\n",
    "\n",
    "</div>"
   ]
  },
  {
   "cell_type": "code",
   "execution_count": null,
   "metadata": {
    "collapsed": false,
    "deletable": true,
    "editable": true,
    "scrolled": true
   },
   "outputs": [],
   "source": [
    "s1 = 'hello guys, i\\'m a string!'\n",
    "s2 = \"hi, i'm a string \\n \\ttoo!\"\n",
    "s3 = \"\"\"i'm a multiline\n",
    "string!\"\"\"\n",
    "s4 = 'i\"m another st\\\n",
    "ring'\n",
    "\n",
    "print('s1: ' + s1)\n",
    "print('s2: ' + s2)\n",
    "print('s3: ' + s3)\n",
    "print('s4: ' + s4)\n",
    "print\n",
    "print('haha ' * 3)  # no comment\n",
    "# print('number ' + 2)-> TypeError:\n",
    "#  --> cannot concatenate 'str' and 'int' objects\n",
    "print('number ' + str(2))"
   ]
  },
  {
   "cell_type": "code",
   "execution_count": 55,
   "metadata": {
    "collapsed": false,
    "deletable": true,
    "editable": true
   },
   "outputs": [
    {
     "name": "stdout",
     "output_type": "stream",
     "text": [
      "a <class 'str'>\n",
      "a\n",
      "\n",
      "aday atn\n",
      "mu\n",
      "nayd\n",
      "ta yadak kesh jam kardim dore khodemun\n",
      "numedohk erod midrak maj hsek kaday atnahc\n",
      "numedohk erod midrak maj hsek kaday atnahc\n"
     ]
    }
   ],
   "source": [
    "s = 'chanta yadak kesh jam kardim dore khodemun'\n",
    "\n",
    "print(s[10], type(s[10]))\n",
    "\n",
    "#substrings\n",
    "t = s[2:3]\n",
    "print(t)\n",
    "\n",
    "#what is s[a:b] if a>b?\n",
    "print(s[10:2])\n",
    "print(s[10:2:-1])\n",
    "print(s[-3:-1])\n",
    "print(s[3:10:2])\n",
    "print(s[4:])\n",
    "print(s[-1::-1])\n",
    "print(s[::-1])"
   ]
  },
  {
   "cell_type": "markdown",
   "metadata": {},
   "source": [
    "<div class=\"persian\" style=\"direction:rtl\">\n",
    "<h3>مساله</h3>\n",
    "<ul>\n",
    "    <li>یک رشته و دو عدد a و b بگیرد و زیر رشته از a تا b رشته اولیه را چاپ کند\n",
    "    (شامل b نباشد)\n",
    "    </li>\n",
    "    <li>ممکن است b از a کوچکتر باشد که در آن صورت باید معکوس زیررشته از a تا b خروجی داده شود\n",
    "    (کماکان شامل b نباشد)\n",
    "    </li>\n",
    "\n",
    "\n",
    "</ul>\n",
    "\n",
    "\n",
    "</div>"
   ]
  },
  {
   "cell_type": "code",
   "execution_count": 54,
   "metadata": {
    "collapsed": false
   },
   "outputs": [
    {
     "name": "stdout",
     "output_type": "stream",
     "text": [
      "ali\n",
      "2\n",
      "0\n",
      "il\n"
     ]
    }
   ],
   "source": [
    "s = input()\n",
    "a = int(input())\n",
    "b = int(input())\n",
    "print(s[a:b:(a<b)*2-1])"
   ]
  },
  {
   "cell_type": "markdown",
   "metadata": {},
   "source": [
    "<div class=\"persian\" style=\"direction:rtl\">\n",
    "<h3>مباحث پیشرفته در رشته</h3>\n",
    "\n",
    "</div>"
   ]
  },
  {
   "cell_type": "code",
   "execution_count": 73,
   "metadata": {
    "collapsed": false,
    "deletable": true,
    "editable": true
   },
   "outputs": [
    {
     "name": "stdout",
     "output_type": "stream",
     "text": [
      "hello mahdi, welcome!\n",
      "hello mahdi, welcome!\n",
      "HELLO MAHDI, WELCOME!\n"
     ]
    }
   ],
   "source": [
    "user = 'mahdi'\n",
    "print('hello %s, welcome!' % user)\n",
    "print('hello {}, welcome!'.format(user))\n",
    "print('hello {user}, {greeting}!'.format(user=user, greeting='welcome').upper())"
   ]
  },
  {
   "cell_type": "code",
   "execution_count": 40,
   "metadata": {
    "collapsed": false,
    "deletable": true,
    "editable": true,
    "scrolled": true
   },
   "outputs": [
    {
     "ename": "TypeError",
     "evalue": "'str' object does not support item assignment",
     "output_type": "error",
     "traceback": [
      "\u001b[0;31m---------------------------------------------------------------------------\u001b[0m",
      "\u001b[0;31mTypeError\u001b[0m                                 Traceback (most recent call last)",
      "\u001b[0;32m<ipython-input-40-575d0c20276a>\u001b[0m in \u001b[0;36m<module>\u001b[0;34m()\u001b[0m\n\u001b[1;32m      1\u001b[0m \u001b[0muser\u001b[0m \u001b[0;34m=\u001b[0m \u001b[0;34m'mahdi'\u001b[0m\u001b[0;34m\u001b[0m\u001b[0m\n\u001b[0;32m----> 2\u001b[0;31m \u001b[0muser\u001b[0m\u001b[0;34m[\u001b[0m\u001b[0;36m1\u001b[0m\u001b[0;34m]\u001b[0m \u001b[0;34m=\u001b[0m \u001b[0;34m'r'\u001b[0m\u001b[0;34m\u001b[0m\u001b[0m\n\u001b[0m\u001b[1;32m      3\u001b[0m \u001b[0mprint\u001b[0m\u001b[0;34m(\u001b[0m\u001b[0;34m'hello %s, welcome!'\u001b[0m \u001b[0;34m%\u001b[0m \u001b[0muser\u001b[0m\u001b[0;34m)\u001b[0m\u001b[0;34m\u001b[0m\u001b[0m\n\u001b[1;32m      4\u001b[0m \u001b[0mprint\u001b[0m\u001b[0;34m(\u001b[0m\u001b[0;34m'hello {}, welcome!'\u001b[0m\u001b[0;34m.\u001b[0m\u001b[0mformat\u001b[0m\u001b[0;34m(\u001b[0m\u001b[0muser\u001b[0m\u001b[0;34m)\u001b[0m\u001b[0;34m)\u001b[0m\u001b[0;34m\u001b[0m\u001b[0m\n\u001b[1;32m      5\u001b[0m \u001b[0mprint\u001b[0m\u001b[0;34m(\u001b[0m\u001b[0;34m'hello {user}, {greeting}!'\u001b[0m\u001b[0;34m.\u001b[0m\u001b[0mformat\u001b[0m\u001b[0;34m(\u001b[0m\u001b[0muser\u001b[0m\u001b[0;34m=\u001b[0m\u001b[0muser\u001b[0m\u001b[0;34m,\u001b[0m \u001b[0mgreeting\u001b[0m\u001b[0;34m=\u001b[0m\u001b[0;34m'welcome'\u001b[0m\u001b[0;34m)\u001b[0m\u001b[0;34m.\u001b[0m\u001b[0mupper\u001b[0m\u001b[0;34m(\u001b[0m\u001b[0;34m)\u001b[0m\u001b[0;34m)\u001b[0m\u001b[0;34m\u001b[0m\u001b[0m\n",
      "\u001b[0;31mTypeError\u001b[0m: 'str' object does not support item assignment"
     ]
    }
   ],
   "source": [
    "user = 'mahdi'\n",
    "print('hello %s, welcome!' % user)\n",
    "print('hello {}, welcome!'.format(user))\n",
    "print('hello {user}, {greeting}!'.format(user=user, greeting='welcome').upper())"
   ]
  },
  {
   "cell_type": "markdown",
   "metadata": {
    "deletable": true,
    "editable": true
   },
   "source": [
    "<div class=\"persian\" style=\"direction:rtl\">\n",
    "<h3>بلاک‌ها</h3>\n",
    "نحوه‌ی indent کردن کد (تورفتگی کد) \n",
    "در پایتون بلاک‌ها را از یکدیگر جدا می‌کند.\n",
    "\n",
    "یعنی پایتون شما را مجبور می‌کند که \n",
    "نحوه‌ی خاصی از تورفتگی‌های کد را استفاده کنید و همانند زبان‌های دیگر این مسئله در دست برنامه‌نویس نیست.\n",
    "<br/>\n",
    "هر tab یا تعدادی space می‌تواند یک مرحله تورفتگی را نشان بدهد.\n",
    "پس شما می‌توانید به انتخاب خودتان از space یا tab برای جدا کردن بلاک‌ها از یکدیگر استفاده کنید (در واقع در پایتون۲ هر ۸ space برابر یک tab است)\n",
    "اما بهتر است که این دو روش را با هم استفاده نکنید. به این دلیل که هم خوانایی کد را به شدت پایین می‌آورد و هم ترکیب کردن دو کد مختلف که یکی از tab و دیگری از space استفاده می‌کند بسیار می‌تواند سخت باشد. همچنین توصیه می‌شود فقط از space برای این کار استفاده کنید.\n",
    "<br/>\n",
    " با اضافه‌کردن یک مرحله تورفتگی، یک بلاک درونی جدید شروع می‌شود و با حذف کردن این تورفتگی بلاک قبلی تمام می‌شود.\n",
    " همیشه وقتی باید یک بلاک جدید شروع شود، یک کاراکتر دونقطه (:) حتما در انتهای خط قبلی آن وجود دارد.\n",
    " <br/>\n",
    " دستوراتی که بعدشان باید یک بلاک جدید شروع شود:\n",
    "<span class=\"codeM\">if و else و for و while و تعریف تابع (def) و ...</span>\n",
    "<br/>\n",
    "دقت کنید که یک بلاک نمی‌تواند هرگز خالی باشد. پس اگر به هر دلیلی بلاک خالی شد، می‌توانید از کلمه‌ی کلیدی\n",
    "<span class=\"codeM\">pass</span>\n",
    "برای خالی نماندن بلاک استفاده کنید.\n",
    "</div>"
   ]
  },
  {
   "cell_type": "markdown",
   "metadata": {
    "deletable": true,
    "editable": true
   },
   "source": [
    "<div class=\"persian\" style=\"direction:rtl\"\n",
    ">\n",
    "<h3>ساختار شرطی</h3>\n",
    "if\n",
    "درست همانطوری که فکر می‌کنید کار می‌کند، فقط با این تفاوت که نیازی نیست دور گزاره‌ی شرطی آن پرانتز بگذارید (گذاشتن آن هم مانعی ندارد). فقط یادتان نرود که در پایان این دستور باید یک کاراکتر دونقطه (:) نوشته شده و در خط بعدی آن یک بلاک جدید شروع شود.\n",
    "<br/>\n",
    "همچنین در پایتون\n",
    "else if\n",
    "نداریم و به جای آن باید از کلمه‌ی کلیدی \n",
    "<span class=\"codeM\">elif</span>\n",
    "استفاده کنید.\n",
    "<br/>\n",
    "همچنین همانند بقیه‌ی زبان‌ها گزاره‌های and و or به صورت\n",
    "اتصال‌کوتاه (short-circuit)\n",
    "اجرا می‌شوند.\n",
    "</div>"
   ]
  },
  {
   "cell_type": "code",
   "execution_count": 74,
   "metadata": {
    "collapsed": false,
    "deletable": true,
    "editable": true,
    "scrolled": true
   },
   "outputs": [
    {
     "name": "stdout",
     "output_type": "stream",
     "text": [
      "a is greater than or equal to 5 and less than 10\n",
      "no error was thrown\n"
     ]
    }
   ],
   "source": [
    "a = 8\n",
    "if a < 5:\n",
    "    print('a is less than 5')\n",
    "elif (a < 10):  # this is okay too, but why bother?\n",
    "    print('a is greater than or equal to 5 and less than 10')\n",
    "else:\n",
    "    print('a is greater than or equal to 10')\n",
    "\n",
    "print  # just a newline\n",
    "\n",
    "if a < 10 or (2/0):\n",
    "    # the second one must throw a division by zero exception\n",
    "    print('no error was thrown')\n",
    "    # obviously or (also and) is short-circuited"
   ]
  },
  {
   "cell_type": "markdown",
   "metadata": {
    "deletable": true,
    "editable": true
   },
   "source": [
    "<div class=\"persian\"style=\"direction:rtl\">\n",
    "<h3>حلقه‌ها</h3>\n",
    "در پایتون دو حلقه‌ی\n",
    "<span class=\"codeM\">for, while</span>\n",
    "را داریم.\n",
    "<br/>\n",
    "البته حلقه‌ی\n",
    "for\n",
    "کمی با زبان‌های دیگر متفاوت است. شما فقط می‌توانید روی یک لیست یا یک شی پیمایش‌شونده\n",
    "(iterable)\n",
    "حلقه اجرا کنید.\n",
    "<br/>\n",
    "همچنین حلقه‌ها می‌توانند یک عبارت\n",
    "<span class=\"codeM\">عبارات break و continue هم مشابه با زبان‌های برنامه نویسی که قبلا دیده اید در حلقه ها قابل استفاده اند</span>\n",
    "</div>"
   ]
  },
  {
   "cell_type": "code",
   "execution_count": 86,
   "metadata": {
    "collapsed": false,
    "deletable": true,
    "editable": true
   },
   "outputs": [
    {
     "name": "stdout",
     "output_type": "stream",
     "text": [
      "counting .. 5\n",
      "counting .. 4\n",
      "counting .. 3\n",
      "counting .. 2\n",
      "counting .. 1\n",
      "\n",
      "0 1 2 3 4 \n",
      "0,1,2,3,4,\n",
      "10 8 6 4 2 "
     ]
    }
   ],
   "source": [
    "cnt = 5\n",
    "while cnt > 0:\n",
    "    print('counting .. ' + str(cnt))\n",
    "    cnt -= 1  # note: cnt-- or cnt++ do not work!\n",
    "\n",
    "print()\n",
    "for i in range(5):\n",
    "    print(i, end=' ')\n",
    "    \n",
    "print()\n",
    "for i in range(0, 5):\n",
    "    print(i, end=',')\n",
    "    \n",
    "print()    \n",
    "for i in range(10, 1, -2):\n",
    "    print(i, end=' ')"
   ]
  },
  {
   "cell_type": "markdown",
   "metadata": {
    "collapsed": true,
    "deletable": true,
    "editable": true
   },
   "source": [
    "<div class=\"persian\" style=\"direction:rtl\">\n",
    "<h3>مساله یک</h3>\n",
    "<ul>\n",
    "    <li>تا زمانی که عدد وارد شده شده اول است ورودی بگیرد وگرنه برنامه را قطع کند</li>\n",
    "</ul>\n",
    "\n",
    "\n",
    "</div>"
   ]
  },
  {
   "cell_type": "code",
   "execution_count": 92,
   "metadata": {
    "collapsed": false
   },
   "outputs": [
    {
     "name": "stdout",
     "output_type": "stream",
     "text": [
      "1\n"
     ]
    }
   ],
   "source": [
    "while True:\n",
    "    n = int(input())\n",
    "    prime = True\n",
    "    for i in range(2, n):\n",
    "        if n % i == 0:\n",
    "            prime = False\n",
    "            break\n",
    "    if not prime or n == 1:\n",
    "        break"
   ]
  },
  {
   "cell_type": "markdown",
   "metadata": {},
   "source": [
    "<div class=\"persian\" style=\"direction:rtl\">\n",
    "<h3>مساله دو</h3>\n",
    "<ul>\n",
    "    <li>دو رشته n حرفی دریافت کند و یک رشته n حرفی شامل حروف بزرگتر هر جایگاه خروجی دهد</li>\n",
    "    <li>مثال: رشته های ورودی abcd و yrea هستند و رشته خروجی yred خواهد بود</li>\n",
    "\n",
    "\n",
    "</ul>\n",
    "\n",
    "\n",
    "</div>"
   ]
  },
  {
   "cell_type": "code",
   "execution_count": null,
   "metadata": {
    "collapsed": false
   },
   "outputs": [],
   "source": [
    "a = input()\n",
    "b = input()\n",
    "s = \"\"\n",
    "for i in range(len(a)):\n",
    "    s += a[i] if a[i] > b[i] else b[i]"
   ]
  },
  {
   "cell_type": "markdown",
   "metadata": {},
   "source": [
    "<div class=\"persian\" style=\"direction:rtl\">\n",
    "<h3>مساله سه</h3>\n",
    "<ul>\n",
    "    <li>دو عدد n و m بگیرید و الگوی n در m زیر را چاپ کنید  </li>\n",
    "    <li>به عنوان مثال برای n=4 و m=10  </li>\n",
    "\n",
    "\n",
    "\n",
    "</ul>\n",
    "</div>"
   ]
  },
  {
   "cell_type": "code",
   "execution_count": 25,
   "metadata": {
    "collapsed": false
   },
   "outputs": [
    {
     "data": {
      "text/plain": [
       "'\\nexample for n=6, m=10\\n\\n**  **  **\\n  **  **  \\n**  **  **\\n  **  **  \\n**  **  **\\n  **  **  \\n\\n'"
      ]
     },
     "execution_count": 25,
     "metadata": {},
     "output_type": "execute_result"
    }
   ],
   "source": [
    "\"\"\"\n",
    "example for n=6, m=10\n",
    "\n",
    "**  **  **\n",
    "  **  **  \n",
    "**  **  **\n",
    "  **  **  \n",
    "**  **  **\n",
    "  **  **  \n",
    "\n",
    "\"\"\""
   ]
  },
  {
   "cell_type": "markdown",
   "metadata": {
    "deletable": true,
    "editable": true
   },
   "source": [
    "<div class=\"persian\" style=\"direction:rtl\">\n",
    "<h3>لیست‌ها</h3>\n",
    "لیست‌های پایتون درست مثل vector (آرایه‌های با طول متغیر) در C++ یا Java اند.\n",
    "<br/>\n",
    "slicing یکی از قابلیت‌های بسیار مفید در پایتون است.\n",
    "</div>\n"
   ]
  },
  {
   "cell_type": "code",
   "execution_count": 11,
   "metadata": {
    "collapsed": false,
    "deletable": true,
    "editable": true,
    "scrolled": false
   },
   "outputs": [
    {
     "name": "stdout",
     "output_type": "stream",
     "text": [
      "length of l is: 5\n",
      "6\n",
      "5\n",
      "[2, 10]\n",
      "[2, 10, 3]\n",
      "[5, 10, 6]\n",
      "[6, 2, 10]\n",
      "[3, 5]\n",
      "[6, 2, 10, 3, 5]\n"
     ]
    }
   ],
   "source": [
    "l = [6,\n",
    "     2,\n",
    "     10,\n",
    "     3,\n",
    "     5,]\n",
    "#  you can break the lines that are constrined by [] or () or {}\n",
    "# it can be a very good tool for increasing readability\n",
    "     \n",
    "#  also you can leave the last colon (,) be, it doesn't do any harm\n",
    "# it's not necessary either\n",
    "\n",
    "print('length of l is: ' + str(len(l)))\n",
    "\n",
    "print(l[0])     # the first item\n",
    "print(l[-1])    # the last item\n",
    "print(l[1:3])   # only the second and third item\n",
    "print(l[1:-1])  # everything but the first and the last item\n",
    "print(l[-1::-2])  # everything but the first and the last item\n",
    "print(l[:3])    # the first 3 items\n",
    "print(l[-2:])   # the last 2 items\n",
    "print(l[0:100]) # no error! the whole list is returned"
   ]
  },
  {
   "cell_type": "code",
   "execution_count": 59,
   "metadata": {
    "collapsed": false,
    "deletable": true,
    "editable": true
   },
   "outputs": [
    {
     "name": "stdout",
     "output_type": "stream",
     "text": [
      "0th value is: 2\n",
      "1th value is: 5\n",
      "2th value is: 7\n",
      "3th value is: 3\n",
      "4th value is: 10\n"
     ]
    }
   ],
   "source": [
    "l = [2, 5, 7, 3, 10]\n",
    "for i, value in enumerate(l):  # enumerate is like zip(0..n-1, list)\n",
    "    print('%dth value is:' % i, value)"
   ]
  },
  {
   "cell_type": "code",
   "execution_count": 28,
   "metadata": {
    "collapsed": false,
    "deletable": true,
    "editable": true
   },
   "outputs": [
    {
     "name": "stdout",
     "output_type": "stream",
     "text": [
      "[34, 4, 2, 4, 4, 4, 5, 6, 10, 34]\n",
      "[2, 4, 4, 4, 4, 5, 6, 10, 34, 34]\n",
      "[34, 34, 10, 6, 5, 4, 4, 4, 4, 2]\n",
      "[34, 34, 10, 6, 5, 4, 4, 4, 4, 2]\n",
      "[2, 4, 4, 4, 4, 4, 5, 6, 10, 34, 34, 34]\n",
      "1\n",
      "[1, 2, 3, 4, 5, 6]\n"
     ]
    }
   ],
   "source": [
    "l.reverse()\n",
    "print(l)        # list is reversed\n",
    "l.sort()\n",
    "print(l)        # list is sorted\n",
    "l.sort(reverse=True)\n",
    "print(l)        # list is sorted in reverse order\n",
    "\n",
    "if 3 in l:\n",
    "    l.remove(3)\n",
    "print(l)\n",
    "\n",
    "l.append(4)\n",
    "l += [34]\n",
    "\n",
    "print(sorted(l))\n",
    "\n",
    "print(l.count(2))\n",
    "\n",
    "print([1, 2, 3] + [4, 5, 6])"
   ]
  },
  {
   "cell_type": "code",
   "execution_count": null,
   "metadata": {
    "collapsed": false,
    "deletable": true,
    "editable": true
   },
   "outputs": [],
   "source": [
    "s = 'hello, welcome to python programming!'\n",
    "# string also have slicing!\n",
    "print(s[s.find('w'):s.find('w')+7] + ' to ' + s[:4].upper()+ '!')"
   ]
  },
  {
   "cell_type": "markdown",
   "metadata": {},
   "source": [
    "<div class=\"persian\" style=\"direction:rtl\">\n",
    "<h3>مثال یک</h3>\n",
    "<ul>\n",
    "    <li>یک عدد n از ورودی بگیرید سپس در n خط بعدی اعداد یک دنباله را ورودی بگیرید. در نهایت این آرایه را به روش حبابی مرتب کنید</li>\n",
    "</ul>\n",
    "</div>\n"
   ]
  },
  {
   "cell_type": "markdown",
   "metadata": {},
   "source": [
    "<div class=\"persian\" style=\"direction:rtl\">\n",
    "<h3>مثال دو</h3>\n",
    "<ul>\n",
    "<li>دو آرایه n عضوی در نظر بگیرید و یک آرایه دو بعدی n در 2 از روی آن دو آٰرایه بسازید</li>\n",
    "</ul>\n",
    "</div>\n"
   ]
  },
  {
   "cell_type": "markdown",
   "metadata": {},
   "source": [
    "<div class=\"persian\" style=\"direction:rtl\">\n",
    "<h3>مثال سه</h3>\n",
    "<ul>\n",
    "<li>یک آرایه را درنظر بگیرید و همه اعضای آن که از نوع int هستند را در قالب یک آرایه جدید خروجی دهید </li>\n",
    "</ul>\n",
    "</div>\n",
    "\n"
   ]
  },
  {
   "cell_type": "code",
   "execution_count": 29,
   "metadata": {
    "collapsed": false,
    "deletable": true,
    "editable": true
   },
   "outputs": [
    {
     "name": "stdout",
     "output_type": "stream",
     "text": [
      "[0, 0, 0, 0, 0, 0, 0, 0, 0, 0]\n",
      "[0, 0, 11, 0, 11, 0, 0, 0, 0, 0]\n"
     ]
    }
   ],
   "source": [
    "arr = [0] * 10\n",
    "print(arr)\n",
    "\n",
    "arr[4] = arr[2] = 11\n",
    "print(arr)"
   ]
  },
  {
   "cell_type": "code",
   "execution_count": 30,
   "metadata": {
    "collapsed": false,
    "deletable": true,
    "editable": true
   },
   "outputs": [
    {
     "name": "stdout",
     "output_type": "stream",
     "text": [
      "[[13, 2, 3], [13, 2, 3], [13, 2, 3], [13, 2, 3]]\n",
      "[[13, 2, 3], [1, 2, 3], [1, 2, 3]]\n"
     ]
    }
   ],
   "source": [
    "# beware when using multiplication with lists and other objects\n",
    "arr = [[1,2,3]] * 4  # for example don't do this!\n",
    "arr[0][0] = 13\n",
    "print(arr)\n",
    "\n",
    "# instead you can do this (we'll cover what this means later):\n",
    "arr = [[1,2,3] for _ in range(3)]\n",
    "arr[0][0] = 13\n",
    "print(arr)"
   ]
  },
  {
   "cell_type": "markdown",
   "metadata": {
    "deletable": true,
    "editable": true
   },
   "source": [
    "<div class=\"persian\" style=\"direction:rtl\">\n",
    "<h3>زوج (چند‌تایی)های مرتب</h3>\n",
    "زوج‌های مرتب درست همانند لیست‌های غیرقابل تغییرند.\n",
    "یکی از برتری‌های آن نسبت به لیست این است که زوج‌های مرتب Hashable اند. پس مثلا می‌توان آن‌ها را به عنوان کلید در یک Dictionary (که بعدا می‌بینیم) نگه‌داشت.\n",
    "<br/>\n",
    "</div>"
   ]
  },
  {
   "cell_type": "code",
   "execution_count": 38,
   "metadata": {
    "collapsed": false,
    "deletable": true,
    "editable": true
   },
   "outputs": [
    {
     "name": "stdout",
     "output_type": "stream",
     "text": [
      "10\n",
      "(10, 6)\n",
      "(10, 6, 19, 10, 6, 19)\n"
     ]
    }
   ],
   "source": [
    "t = (10,6,19)\n",
    "print(t[0])\n",
    "print(t[0:-1])\n",
    "print(t*2)\n",
    "\n",
    "# t[1] = 4 -> TypeError\n",
    "# t.append -> not supported"
   ]
  },
  {
   "cell_type": "code",
   "execution_count": 39,
   "metadata": {
    "collapsed": false,
    "deletable": true,
    "editable": true
   },
   "outputs": [
    {
     "name": "stdout",
     "output_type": "stream",
     "text": [
      "10\n",
      "6\n",
      "19\n",
      "---\n",
      "19\n",
      "6\n",
      "10\n"
     ]
    }
   ],
   "source": [
    "a, b, c = t\n",
    "print(a)\n",
    "print(b)\n",
    "print(c)\n",
    "\n",
    "print('---')\n",
    "a, b, c = c, b, a  # 3-way swap in one statement!\n",
    "print(a)\n",
    "print(b)\n",
    "print(c)"
   ]
  },
  {
   "cell_type": "markdown",
   "metadata": {
    "deletable": true,
    "editable": true
   },
   "source": [
    "<div class=\"persian\" style=\"direction:rtl\">\n",
    "<h3>مجموعه‌ها</h3>\n",
    "مجموعه‌ها در پایتون همانند HashSet در Java یا set در C++ اند.\n",
    "<br/>\n",
    "مجموعه‌ها می‌توانند حداکثر یکی از هر چیز را نگه‌داری کنند (البته هر چیزی که در آن ذخیره می‌شود باید Hashable باشد.\n",
    "پس لیست‌ها و مجموعه‌های دیگر و Dictionary‌ها را نمی‌توان در یک مجموعه نگه‌داشت)\n",
    "</div>"
   ]
  },
  {
   "cell_type": "code",
   "execution_count": 44,
   "metadata": {
    "collapsed": false,
    "deletable": true,
    "editable": true
   },
   "outputs": [
    {
     "name": "stdout",
     "output_type": "stream",
     "text": [
      "{(1, 2), 'hasan', 2, 3, 1}\n",
      "5\n",
      "True\n",
      "False\n",
      "-- add:\n",
      "{(1, 2), 1, 2, 3, 4, 'hasan'}\n",
      "True\n",
      "-- remove:\n",
      "{(1, 2), 1, 2, 4, 'hasan'}\n",
      "False\n",
      "(1, 2) - 1 - 2 - 4 - hasan - "
     ]
    }
   ],
   "source": [
    "s = {1,2,3,3, (1,2), 'hasan'}\n",
    "print(s)\n",
    "print(len(s))\n",
    "print(1 in s)\n",
    "print(4 in s)\n",
    "\n",
    "print('-- add:')\n",
    "s.add(4)\n",
    "print(s)\n",
    "print(4 in s)\n",
    "\n",
    "print('-- remove:')\n",
    "s.remove(3)\n",
    "print(s)\n",
    "print(3 in s)\n",
    "\n",
    "for x in s:\n",
    "    print(x, end=' - ')"
   ]
  },
  {
   "cell_type": "markdown",
   "metadata": {
    "deletable": true,
    "editable": true
   },
   "source": [
    "<div class=\"persian\" style=\"direction:rtl\">\n",
    "<h3>دیکشنری</h3>\n",
    "دیکشنری‌ها\n",
    "(یا به اختصار dict)\n",
    "در پایتون بسیار مفیداند و همانند HashMap در Java و map در C++ عمل می‌کنند.\n",
    "<br/>\n",
    "در یک dict شما می‌توانید زوج‌های مرتب کلید و مقدار را ذخیره کرده و بعدا بر اساس کلید، مقدار‌ها را پیدا کنید.\n",
    "فقط دقت کنید که کلید باید Hashable باشد.\n",
    "</div>"
   ]
  },
  {
   "cell_type": "code",
   "execution_count": null,
   "metadata": {
    "collapsed": false,
    "deletable": true,
    "editable": true
   },
   "outputs": [],
   "source": [
    "d = {'ali': 1,\n",
    "     'mamad': 2,\n",
    "     1: 3,\n",
    "     (1,2): 4,\n",
    "    }\n",
    "print(len(d))\n",
    "print(d)\n",
    "print(d[1])\n",
    "print(1 in d)\n",
    "print(d['mamad'])\n",
    "print(d[1,2])\n",
    "# when there's no ambiguity, the parantheses around tuples are not needed\n",
    "\n",
    "print('-- delete:')\n",
    "del d[1]\n",
    "# print d[1] -> KeyError\n",
    "print(1 in d)\n",
    "print(d)\n",
    "\n",
    "print('-- add:')\n",
    "d['new'] = 123\n",
    "print(d)"
   ]
  },
  {
   "cell_type": "markdown",
   "metadata": {},
   "source": [
    "<div class=\"persian\" style=\"direction:rtl\">\n",
    "<h3>مثال یک</h3>\n",
    "یک دیکشنری را درنظر بگیرید و از روی آن دیکشنری معکوسش را بسازید و بررسی بکنید تابع نگاشت یک به یک بوده یا خیر\n",
    "</div>\n",
    "\n"
   ]
  },
  {
   "cell_type": "code",
   "execution_count": 51,
   "metadata": {
    "collapsed": false
   },
   "outputs": [
    {
     "data": {
      "text/plain": [
       "{2: 1, 3: 4}"
      ]
     },
     "execution_count": 51,
     "metadata": {},
     "output_type": "execute_result"
    }
   ],
   "source": [
    "a = {1:2, 2:3, 4:3}\n",
    "b = {j: i for (i, j) in a.items()}\n",
    "b"
   ]
  },
  {
   "cell_type": "markdown",
   "metadata": {},
   "source": [
    "<div class=\"persian\" style=\"direction:rtl\">\n",
    "<h3>مثال دو</h3>\n",
    "تعدادی اسم و فامیل را از ورودی بخواند و بگوید به ازای هر فامیلی چند اسم متمایز وجود داشته است.\n",
    "</div>\n",
    "\n",
    "\n"
   ]
  },
  {
   "cell_type": "code",
   "execution_count": 55,
   "metadata": {
    "collapsed": false
   },
   "outputs": [
    {
     "name": "stdout",
     "output_type": "stream",
     "text": [
      "a b\n",
      "a b\n",
      "c b\n",
      "f b\n",
      "e h\n",
      "r h\n",
      "a j\n",
      "e b\n",
      "b b\n",
      "a k\n",
      "j {'a'}\n",
      "k {'a'}\n",
      "h {'r', 'e'}\n",
      "b {'f', 'a', 'b', 'c', 'e'}\n"
     ]
    }
   ],
   "source": [
    "a = {}\n",
    "for i in range(10):\n",
    "    x, y= input().split()\n",
    "    if y in a:\n",
    "        a[y].add(x)\n",
    "    else:\n",
    "        a[y] = {x}\n",
    "for family, names in a.items():\n",
    "    print(family, names)"
   ]
  },
  {
   "cell_type": "markdown",
   "metadata": {
    "deletable": true,
    "editable": true
   },
   "source": [
    "<div class=\"persian\" style=\"direction:rtl\">\n",
    "<h3>مقدار True و False انواع پایه در گزاره‌های شرطی</h3>\n",
    "    مقادیر زیر در پایتون در یک گزاره‌ی شرطی مقدار False دارند:\n",
    "    <ul>\n",
    "        <li>False</li>\n",
    "        <li>None</li>\n",
    "        <li>صفر عددی: 0، 0.0، 0j</li>\n",
    "        <li>یک دنباله (مثلا رشته) یا مجموعه یا \n",
    "        dict\n",
    "        خالی: ''، \"\"، {}، []، () و غیره</li>\n",
    "    </ul>\n",
    "    هر چیز دیگری مقدار True می‌گیرد.\n",
    "</div>"
   ]
  },
  {
   "cell_type": "markdown",
   "metadata": {
    "deletable": true,
    "editable": true
   },
   "source": [
    "<div class=\"persian\">\n",
    "<h3>Import</h3>\n",
    "یکی از قوی‌ترین جنبه‌های زبان پایتون کتابخانه‌هایی اند که برای انجام تقریبا هرگونه کاری در پایتون نوشته شده‌اند. برای استفاده از این کتابخانه‌ها ابتدا باید آن‌ها را بر روی کامپیوتر (در کتابخانه‌های نسخه‌ی پایتون خود) نصب کنید. برای این کار چند روش متداول وجود دارد:\n",
    "<ul>\n",
    "    <li>استفاده از دستور pip: <br/><div class=\"codeM english\">pip install &lt;libraryName&gt;[==version]</div></li>\n",
    "    <li>استفاده از دستور easy_install:<br/><div class=\"codeM english\">easy_install &lt;libraryName&gt;</div></li>\n",
    "    <li>دانلود کردن و setup کردن به صورت دستی: <br/><div class=\"codeM english\"># download<br/># unzip or untar<br/># cd folder<br/>python setup.py install</div></li>\n",
    "</ul>\n",
    "<br/>\n",
    "حال می‌توانید از کتابخانه‌ی مورد نظر استفاده کنید. برای این کار باید ابتدا هر کتابخانه‌ای را که می‌خواهید از آن استفاده کنید را Import (همانند include در C++) کنید و سپس از آن استفاده کنید. برای این کار چند روش وجود دارد:\n",
    "<ul>\n",
    "    <li>\n",
    "        import کردن خود ماژول:\n",
    "        <div class=\"codeM english\">\n",
    "            import urllib2 as urllib\n",
    "            <br/>\n",
    "            res = urllib.urlopen('http://ce.sharif.edu')\n",
    "        </div>\n",
    "    </li>\n",
    "    <li>\n",
    "    import کردن توابع یا کلاس‌های موجود در ماژول:\n",
    "        <div class=\"codeM english\">\n",
    "            from urllib2 import urlopen\n",
    "            <br/>\n",
    "                # or\n",
    "            <br/>\n",
    "            from urllib2 import *\n",
    "            <br/>\n",
    "            res = urlopen('http://ce.sharif.edu')\n",
    "        </div>\n",
    "    </li>\n",
    "</ul>\n",
    "بهتر است معمولا فقط از یکی از این دو روش استفاده کنیم.\n",
    "</div>"
   ]
  },
  {
   "cell_type": "code",
   "execution_count": 46,
   "metadata": {
    "collapsed": false,
    "deletable": true,
    "editable": true
   },
   "outputs": [
    {
     "ename": "SyntaxError",
     "evalue": "invalid syntax (<ipython-input-46-179295facea2>, line 1)",
     "output_type": "error",
     "traceback": [
      "\u001b[0;36m  File \u001b[0;32m\"<ipython-input-46-179295facea2>\"\u001b[0;36m, line \u001b[0;32m1\u001b[0m\n\u001b[0;31m    pip install beautifulsoup4\u001b[0m\n\u001b[0m              ^\u001b[0m\n\u001b[0;31mSyntaxError\u001b[0m\u001b[0;31m:\u001b[0m invalid syntax\n"
     ]
    }
   ],
   "source": [
    "# pip install beautifulsoup4\n",
    "\n",
    "#  in this example we will get all the courses with ce course-page in\n",
    "# the current semester\n",
    "from bs4 import BeautifulSoup\n",
    "from urllib2 import urlopen\n",
    "\n",
    "url = 'http://ce.sharif.edu/programs-and-courses/semester2-9495'\n",
    "res = urlopen(url, 'html5lib')\n",
    "soup = BeautifulSoup(''.join(res.readlines()))\n",
    "courses = soup.find_all('div', class_=\"su-column-inner\")\n",
    "for i, course in enumerate(courses):\n",
    "    print(str(i) + ' ' +\n",
    "          ' '.join(course.find('a').getText().split()[1:]) + ' ' +\n",
    "          course.find_all('li')[0].getText())"
   ]
  },
  {
   "cell_type": "markdown",
   "metadata": {
    "deletable": true,
    "editable": true
   },
   "source": [
    "<div class=\"persian\">\n",
    "<h3>توابع</h3>\n",
    "توابع در پایتون با کلمه‌ی کلیدی\n",
    "<span class=\"codeM\">def</span>\n",
    "تعریف می‌شوند.\n",
    "<br/>\n",
    "برای ورودی دادن به تابع می توانید از همان روش ساده‌ی ورودی‌های مرتب استفاده کنید. اما می‌توانید آن‌ها را با استفاده از نام‌شان نیز مقداردهی کنید.\n",
    "<br/>\n",
    "همچنین می‌توانید توابع را همانند دیگر اشیا در متغیر‌ها ذخیره کنید یا به توابع دیگر پاس بدهید.\n",
    "<br/>\n",
    "همچنین می‌توانید در داخل یک تابع، یک تابع دیگر تعریف کنید یا توابع بی‌نام\n",
    "(anonymous function)\n",
    "داشته باشید که البته خیلی هم به دردتان نمی‌خورد.\n",
    "(توابع بی‌نام با کلمه‌ی کلیدی\n",
    "<span class=\"codeM\">lambda</span>\n",
    "تعریف می‌شوند)\n",
    "</div>"
   ]
  },
  {
   "cell_type": "code",
   "execution_count": null,
   "metadata": {
    "collapsed": false,
    "deletable": true,
    "editable": true
   },
   "outputs": [],
   "source": [
    "import math\n",
    "\n",
    "def isPrime(a, b=10):\n",
    "    for i in range(2, int(math.sqrt(a)+1)):\n",
    "        if a % i == 0:\n",
    "            return False\n",
    "    return True\n",
    "\n",
    "print(isPrime(12))\n",
    "print(isPrime(a=17))\n",
    "\n",
    "def func(value1, aa, bb):\n",
    "    print 'value1:', value1\n",
    "    print 'aa:', aa\n",
    "    print 'bb:', bb\n",
    "\n",
    "func(10, aa='salam', bb=2+3j)"
   ]
  },
  {
   "cell_type": "code",
   "execution_count": null,
   "metadata": {
    "collapsed": false,
    "deletable": true,
    "editable": true
   },
   "outputs": [],
   "source": [
    "def applyFunction(f, value):\n",
    "    return f(value)\n",
    "\n",
    "def sqr(a):\n",
    "    return a*a\n",
    "\n",
    "print(applyFunction(sqr, 10))\n",
    "print(applyFunction(lambda x: 2*x, 10))  # doubles the value!"
   ]
  },
  {
   "cell_type": "code",
   "execution_count": null,
   "metadata": {
    "collapsed": false,
    "deletable": true,
    "editable": true
   },
   "outputs": [],
   "source": [
    "# print(isPrime('12')) -> TypeError\n",
    "isStrPrime = lambda x: isPrime(int(x))\n",
    "print(isStrPrime('12'))\n",
    "print(isStrPrime('17'))\n",
    "#  well anonymous functions are supposed to be well .. anonymous but\n",
    "# i just wanted to show that they are used just like normal functions"
   ]
  },
  {
   "cell_type": "code",
   "execution_count": null,
   "metadata": {
    "collapsed": false,
    "deletable": true,
    "editable": true
   },
   "outputs": [],
   "source": [
    "# reading data from stdin\n",
    "print(map(int, raw_input().split()))\n",
    "print(map(lambda x: isPrime(int(x)), raw_input().split()))"
   ]
  },
  {
   "cell_type": "code",
   "execution_count": null,
   "metadata": {
    "collapsed": false,
    "deletable": true,
    "editable": true
   },
   "outputs": [],
   "source": [
    "help(str.split)\n",
    "#help('13'.split)"
   ]
  },
  {
   "cell_type": "markdown",
   "metadata": {
    "deletable": true,
    "editable": true
   },
   "source": [
    "<div class=\"persian\">\n",
    "تابع sort لیست‌ها را یادتان می‌آید؟\n",
    "می‌توانیم ترتیب مرتب‌کردن این توابع را نیز عوض کنیم.\n",
    "</div>"
   ]
  },
  {
   "cell_type": "code",
   "execution_count": null,
   "metadata": {
    "collapsed": false,
    "deletable": true,
    "editable": true
   },
   "outputs": [],
   "source": [
    "l = ['1', '6', '2', '4', '10']\n",
    "l.sort()\n",
    "print(l)  # uses string comparing methods\n",
    "\n",
    "def compareInt(str1, str2):\n",
    "    # shoud return:\n",
    "    #   >= 1 for greater\n",
    "    #   <= -1 for less\n",
    "    #   0 for equal\n",
    "    return int(str1) - int(str2)\n",
    "\n",
    "l.sort(compareInt)\n",
    "print(l)  # gives what we wanted"
   ]
  },
  {
   "cell_type": "code",
   "execution_count": null,
   "metadata": {
    "collapsed": false,
    "deletable": true,
    "editable": true
   },
   "outputs": [],
   "source": [
    "def mult(a, b):\n",
    "    return a*b\n",
    "\n",
    "mult(3, 4)\n",
    "\n",
    "def partialMult(a):\n",
    "    def mult(b):\n",
    "        return a * b\n",
    "    return mult\n",
    "\n",
    "multBy3 = partialMult(3)\n",
    "print(type(multBy3))\n",
    "print(multBy3(2))\n",
    "print(multBy3(11))\n",
    "print(multBy3(4))"
   ]
  },
  {
   "cell_type": "code",
   "execution_count": null,
   "metadata": {
    "collapsed": false,
    "deletable": true,
    "editable": true
   },
   "outputs": [],
   "source": [
    "# for reference this idea can be done more easily with functools\n",
    "from functools import partial\n",
    "\n",
    "anotherMultBy3 = partial(mult, 3)\n",
    "print(anotherMultBy3(4))"
   ]
  },
  {
   "cell_type": "markdown",
   "metadata": {
    "deletable": true,
    "editable": true
   },
   "source": [
    "<div class=\"persian\">\n",
    "<h3>Help</h3>\n",
    "</div>"
   ]
  },
  {
   "cell_type": "code",
   "execution_count": null,
   "metadata": {
    "collapsed": false,
    "deletable": true,
    "editable": true
   },
   "outputs": [],
   "source": [
    "help()"
   ]
  },
  {
   "cell_type": "markdown",
   "metadata": {
    "deletable": true,
    "editable": true
   },
   "source": [
    "<div class=\"persian\">\n",
    "<h3>class</h3>\n",
    "برای تعریف یک کلاس در پایتون از کلمه‌ی کلیدی class استفاده می‌شود.\n",
    "بعضی از نام‌های توابع هر کلاس معانی خاصی دارند. این توابع همه در ابتدا و انتهایشان دو کاراکتر \n",
    "underline (_)\n",
    "دارند.\n",
    "برای مثال از این بین تابع\n",
    "<span class=\"codeM\">&#95;&#95;init&#95;&#95;</span>\n",
    "که کار همان constructor\n",
    "در زبان‌های دیگر را انجام می‌دهد.\n",
    "مثال‌های دیگر این نوع توابع:\n",
    "    <div class=\"codeM english\">\n",
    "        &#95;&#95;del&#95;&#95; (destructor),\n",
    "        &#95;&#95;eq&#95;&#95; (تابع مساوی),\n",
    "        &#95;&#95;str&#95;&#95; (<span class=\"persian\">toString در Java</span>)\n",
    "    </div>\n",
    "<div class=\"persian\">\n",
    "همچنین یکی از چیز‌هایی که شاید در پایتون با بقیه‌ی زبان‌ها فرق کند این است که در پایتون یک متغیر خاص به نام\n",
    "this\n",
    "نداریم. به جای آن خود شی به عنوان اولین ورودی به تابع پاس داده می‌شود. این ورودی چیز خاصی نیست اما در زبان پایتون از آن با نام \n",
    "self\n",
    "یاد می‌شود و بهتر است شما نیز این قاعده را رعایت کنید. پس هر تابع یکی کلاس حداقل یک ورودی دارد که اولین‌شان همان self است.\n",
    "</div>\n",
    "</div>"
   ]
  },
  {
   "cell_type": "code",
   "execution_count": null,
   "metadata": {
    "collapsed": false,
    "deletable": true,
    "editable": true
   },
   "outputs": [],
   "source": [
    "class Test:\n",
    "    def __init__(self):\n",
    "        print('hello, i\\'m here!')\n",
    "    \n",
    "    def __del__(otherName):  # you can do this too, but please dont\n",
    "        print('i have to go, bye!')\n",
    "\n",
    "t = Test()\n",
    "t = None  # python has garbage collection like Java\n",
    "#  you can explicity call garbage collector with first importing `gc`\n",
    "# and then calling gc.collect()"
   ]
  },
  {
   "cell_type": "markdown",
   "metadata": {
    "deletable": true,
    "editable": true
   },
   "source": [
    "<div class=\"persian\">\n",
    "هر کلاس می‌تواند تعدادی فیلد (همان متغیرهای کلاس) داشته باشد. شما می‌توانید در هر لحظه از کد به یک شی متغیری را اضافه کنید (مگر این که از قصد این قابلیت از شما گرفته شده باشد) ولی بهتر است که تمام فیلد‌های یک کلاس در داخل constructor\n",
    "تعریف شوند (یعنی مقدار اولیه بگیرند).\n",
    "</div>"
   ]
  },
  {
   "cell_type": "code",
   "execution_count": null,
   "metadata": {
    "collapsed": false,
    "deletable": true,
    "editable": true
   },
   "outputs": [],
   "source": [
    "class Test:\n",
    "    a = 1 # you can even do this, but it's better not to\n",
    "    def __init__(self, b, c):\n",
    "        self.b = b  # this is the best way\n",
    "        self.c = c\n",
    "        self.other_value = 10\n",
    "\n",
    "o = Test(2, 3)\n",
    "o.d = 4 # you can even set an attribute outside of the class!\n",
    "print o.a, o.b, o.c, o.d, o.other_value"
   ]
  },
  {
   "cell_type": "markdown",
   "metadata": {
    "deletable": true,
    "editable": true
   },
   "source": [
    "<div class=\"persian\">\n",
    "در پایتون می‌توانید وراثت نیز داشته باشید. برای این کار فقط کافی است نام کلاس پدر را در داخل یک جفت پرانتز جلوی تعریف نام کلاس قرار دهید (به مثال نگاه کنید).\n",
    "<br/>\n",
    "در پایتون همانند C++\n",
    "یک کلاس می‌تواند از چند کلاس ارث ببرد، اما فکر نمی‌کنم خیلی به دردتان بخورد.\n",
    "<br/>\n",
    "همچنین در وراثت بعضی مواقع (مثلا در constructor)\n",
    "مجبور می‌شویم تابع مشابه از پدر را صدا کنیم. برای این کار باید از ساختاری استفاده کنیم که شاید در نگاه اول کمی غریبه باشد. برای مثال برای صدا کردن constructor\n",
    "پدر، باید کد زیر را بنویسیم:\n",
    "<div class=\"english codeM\">\n",
    "        super(className, self).&#95;&#95;init&#95;&#95;()\n",
    "</div>\n",
    "</div>"
   ]
  },
  {
   "cell_type": "code",
   "execution_count": null,
   "metadata": {
    "collapsed": false,
    "deletable": true,
    "editable": true
   },
   "outputs": [],
   "source": [
    "class A(object):\n",
    "    #  in python2 you can only use superwhen one of the parents\n",
    "    # inherit from a class that eventually inherits `object`, so A\n",
    "    # has to inherit from `object`\n",
    "    def __init__(self):\n",
    "        print('in A')\n",
    "\n",
    "class B(A):\n",
    "    def __init__(self):\n",
    "        print('in B')\n",
    "        super(B, self).__init__()\n",
    "        #A.__init__(self)\n",
    "        # this is okay too, but there are some pitfalls when using\n",
    "        # muliple inheritances. but this doesn't require A to inherit\n",
    "        # from `object`\n",
    "\n",
    "b = B()"
   ]
  },
  {
   "cell_type": "markdown",
   "metadata": {
    "deletable": true,
    "editable": true
   },
   "source": [
    "<div class=\"persian\">\n",
    "<h2>مطالب اضافی</h2>"
   ]
  },
  {
   "cell_type": "markdown",
   "metadata": {
    "deletable": true,
    "editable": true
   },
   "source": [
    "<div class=\"persian\">\n",
    "   <h3>لیست بی‌نهایت؟</h3> چرا که نه!\n",
    "</div>"
   ]
  },
  {
   "cell_type": "code",
   "execution_count": null,
   "metadata": {
    "collapsed": false,
    "deletable": true,
    "editable": true
   },
   "outputs": [],
   "source": [
    "def InfiniteList(start):\n",
    "    value = start\n",
    "    while True:\n",
    "        yield value\n",
    "        value = value+1\n",
    "        \n",
    "expectedSum = 123\n",
    "cnt = 0;\n",
    "for i in InfiniteList(1):\n",
    "    cnt += i\n",
    "    if cnt >= expectedSum:\n",
    "        print('first value `d` with sum of 1 .. `d` ' \\\n",
    "            + 'greater than %d is %d' % (expectedSum, i))\n",
    "        break"
   ]
  },
  {
   "cell_type": "code",
   "execution_count": null,
   "metadata": {
    "collapsed": false,
    "deletable": true,
    "editable": true
   },
   "outputs": [],
   "source": [
    "import itertools\n",
    "print 'list of odd numbers between 123 and 150:', filter(\n",
    "            lambda x: x%2 == 1, \n",
    "            itertools.takewhile(\n",
    "                lambda x: x<150,\n",
    "                InfiniteList(123)\n",
    "            )\n",
    "        )"
   ]
  },
  {
   "cell_type": "code",
   "execution_count": null,
   "metadata": {
    "collapsed": false,
    "deletable": true,
    "editable": true
   },
   "outputs": [],
   "source": [
    "def FibonacciSeq():\n",
    "    a, b = 0, 1\n",
    "    while True:\n",
    "        yield b\n",
    "        b = a + b\n",
    "        a = b - a\n",
    "\n",
    "for fib, i in zip(FibonacciSeq(), xrange(5)):\n",
    "    print('%dth fibonacci number is %d' % (i, fib))"
   ]
  },
  {
   "cell_type": "markdown",
   "metadata": {
    "collapsed": false,
    "deletable": true,
    "editable": true
   },
   "source": [
    "<div class=\"persian\">\n",
    "<h3>\n",
    "دربرگیرنده‌ها\n",
    "(Wrappers یا Decorators)\n",
    "</h3>\n",
    "</div>"
   ]
  },
  {
   "cell_type": "code",
   "execution_count": null,
   "metadata": {
    "collapsed": false,
    "deletable": true,
    "editable": true
   },
   "outputs": [],
   "source": [
    "import time\n",
    "\n",
    "def fib(n):\n",
    "    if n <= 1:\n",
    "        return 1\n",
    "    return fib(n-1) + fib(n-2)\n",
    "\n",
    "for i in range(30, 35):\n",
    "    start = time.time()\n",
    "    value = fib(i)\n",
    "    print('%dth fibonacci number is %d ' % (i, value) + \\\n",
    "          'it took %.2f secs to calculate' % (time.time() - start))"
   ]
  },
  {
   "cell_type": "code",
   "execution_count": null,
   "metadata": {
    "collapsed": false,
    "deletable": true,
    "editable": true
   },
   "outputs": [],
   "source": [
    "import collections\n",
    "\n",
    "def memoize(func):\n",
    "    memoizeDict = {}\n",
    "    def wrapper(*args):\n",
    "        if not isinstance(args, collections.Hashable):\n",
    "            # later is better than never!\n",
    "            return func(*args)\n",
    "        elif not args in memoizeDict:\n",
    "            memoizeDict[args] = func(*args)\n",
    "        return memoizeDict[args]\n",
    "    return wrapper\n",
    "\n",
    "@memoize\n",
    "def fib_memoized(n):\n",
    "    if n <= 1:\n",
    "        return 1\n",
    "    return fib_memoized(n-1) + fib_memoized(n-2)\n",
    "\n",
    "for i in range(30, 35):\n",
    "    start = time.time()\n",
    "    value = fib_memoized(i)\n",
    "    print('%dth fibonacci number is %d ' % (i, value) + \\\n",
    "          'it took %.4f secs to calculate' % (time.time() - start))"
   ]
  }
 ],
 "metadata": {
  "kernelspec": {
   "display_name": "Python 3",
   "language": "python",
   "name": "python3"
  },
  "language_info": {
   "codemirror_mode": {
    "name": "ipython",
    "version": 3
   },
   "file_extension": ".py",
   "mimetype": "text/x-python",
   "name": "python",
   "nbconvert_exporter": "python",
   "pygments_lexer": "ipython3",
   "version": "3.5.2"
  }
 },
 "nbformat": 4,
 "nbformat_minor": 0
}
